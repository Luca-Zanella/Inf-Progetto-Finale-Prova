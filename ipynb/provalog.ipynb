{
 "metadata": {
  "language_info": {
   "codemirror_mode": {
    "name": "ipython",
    "version": 3
   },
   "file_extension": ".py",
   "mimetype": "text/x-python",
   "name": "python",
   "nbconvert_exporter": "python",
   "pygments_lexer": "ipython3",
   "version": "3.9.1"
  },
  "orig_nbformat": 2,
  "kernelspec": {
   "name": "python391jvsc74a57bd06b2186e92e5ccf417916dae32a12ace57b536e5d87ebf6bec9f55d3d305f6e91",
   "display_name": "Python 3.9.1 64-bit ('geo_env': conda)"
  }
 },
 "nbformat": 4,
 "nbformat_minor": 2,
 "cells": [
  {
   "cell_type": "code",
   "execution_count": 1,
   "metadata": {},
   "outputs": [],
   "source": [
    "import pyodbc as py\n",
    "\n",
    "server = \"213.140.22.237\\SQLEXPRESS\"\n",
    "database = \"zanella.luca\"\n",
    "username = \"zanella.luca\"\n",
    "password = \"xxx123##\"\n",
    "conn = py.connect('DRIVER={SQL Server};SERVER='+server+';DATABASE='+database+';UID='+username+';PWD='+ password) \n",
    "cursor = conn.cursor()"
   ]
  },
  {
   "cell_type": "code",
   "execution_count": 2,
   "metadata": {},
   "outputs": [
    {
     "output_type": "stream",
     "name": "stdout",
     "text": [
      "2021-05-17 00:00:00\n",
      "09:23:35\n",
      "09:23:40\n"
     ]
    }
   ],
   "source": [
    "from datetime import datetime\n",
    "import time\n",
    "df_data_log = datetime.now().strftime(\"%d/%m/%Y\")\n",
    "df_data_log = datetime.strptime(df_data_log,\"%d/%m/%Y\")\n",
    "print(df_data_log)\n",
    "df_time_iniziale_log = datetime.now().strftime(\"%H:%M:%S\")\n",
    "print(df_time_iniziale_log)\n",
    "time.sleep(5)\n",
    "df_time_finale_log = datetime.now().strftime(\"%H:%M:%S\")\n",
    "print(df_time_finale_log)"
   ]
  },
  {
   "cell_type": "code",
   "execution_count": 3,
   "metadata": {},
   "outputs": [],
   "source": [
    "\n",
    "cursor.execute('INSERT INTO dbo.prova_log (data,tempo_iniziale,tempo_finale) VALUES (?,?,?)', (df_data_log,df_time_iniziale_log,df_time_finale_log,))\n",
    "conn.commit()"
   ]
  },
  {
   "cell_type": "code",
   "execution_count": null,
   "metadata": {},
   "outputs": [],
   "source": []
  }
 ]
}