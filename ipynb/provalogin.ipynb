{
 "metadata": {
  "language_info": {
   "codemirror_mode": {
    "name": "ipython",
    "version": 3
   },
   "file_extension": ".py",
   "mimetype": "text/x-python",
   "name": "python",
   "nbconvert_exporter": "python",
   "pygments_lexer": "ipython3",
   "version": "3.9.1"
  },
  "orig_nbformat": 2,
  "kernelspec": {
   "name": "python391jvsc74a57bd06b2186e92e5ccf417916dae32a12ace57b536e5d87ebf6bec9f55d3d305f6e91",
   "display_name": "Python 3.9.1 64-bit ('geo_env': conda)"
  }
 },
 "nbformat": 4,
 "nbformat_minor": 2,
 "cells": [
  {
   "cell_type": "code",
   "execution_count": 1,
   "metadata": {},
   "outputs": [],
   "source": [
    "import geopandas\n",
    "import contextily\n",
    "import pandas\n",
    "from shapely.geometry import Point\n",
    "import numpy as np"
   ]
  },
  {
   "cell_type": "code",
   "execution_count": 2,
   "metadata": {},
   "outputs": [
    {
     "output_type": "execute_result",
     "data": {
      "text/plain": [
       "      Unnamed: 0 area codice_NUTS1 codice_NUTS2  codice_regione_ISTAT  \\\n",
       "0              0  ABR          ITF         ITF1                    13   \n",
       "1              1  ABR          ITF         ITF1                    13   \n",
       "2              2  ABR          ITF         ITF1                    13   \n",
       "3              3  ABR          ITF         ITF1                    13   \n",
       "4              4  ABR          ITF         ITF1                    13   \n",
       "...          ...  ...          ...          ...                   ...   \n",
       "1986        1986  VEN          ITH         ITH3                     5   \n",
       "1987        1987  VEN          ITH         ITH3                     5   \n",
       "1988        1988  VEN          ITH         ITH3                     5   \n",
       "1989        1989  VEN          ITH         ITH3                     5   \n",
       "1990        1990  VEN          ITH         ITH3                     5   \n",
       "\n",
       "                   denominazione_struttura        lat        lng nome_area  \\\n",
       "0                AVEZZANO-SULMONA-L'AQUILA  42.051257  13.934312   Abruzzo   \n",
       "1                CASA DI CURA VILLA SERENA  42.521354  14.097955   Abruzzo   \n",
       "2           CDC S.CAMILLA-C.RIA.VILLA PINI  42.379116  14.189817   Abruzzo   \n",
       "3             CENTRO RIABILITAZIONE  SANEX  42.712143  13.657788   Abruzzo   \n",
       "4                 CONS. S.STEFANO S.EGIDIO  42.823682  13.716292   Abruzzo   \n",
       "...                                    ...        ...        ...       ...   \n",
       "1986                      PRIMAVERA 85 CLP  45.530232  11.444083    Veneto   \n",
       "1987           PSR ALBATROS PIANO INFINITO  45.497861  11.436092    Veneto   \n",
       "1988                         PSR MOBY DICK  40.781324 -73.973988    Veneto   \n",
       "1989  PSR NO PROBLEM COOP. STUDIO PROGETTO  45.441466  12.315259    Veneto   \n",
       "1990  RSA \"NOI CON VOI\"  - MOGLIANO VENETO  45.656641  12.241009    Veneto   \n",
       "\n",
       "         tipologia  \n",
       "0      Ospedaliero  \n",
       "1      Ospedaliero  \n",
       "2     Territoriale  \n",
       "3     Territoriale  \n",
       "4     Territoriale  \n",
       "...            ...  \n",
       "1986  Territoriale  \n",
       "1987  Territoriale  \n",
       "1988  Territoriale  \n",
       "1989  Territoriale  \n",
       "1990  Territoriale  \n",
       "\n",
       "[1991 rows x 10 columns]"
      ],
      "text/html": "<div>\n<style scoped>\n    .dataframe tbody tr th:only-of-type {\n        vertical-align: middle;\n    }\n\n    .dataframe tbody tr th {\n        vertical-align: top;\n    }\n\n    .dataframe thead th {\n        text-align: right;\n    }\n</style>\n<table border=\"1\" class=\"dataframe\">\n  <thead>\n    <tr style=\"text-align: right;\">\n      <th></th>\n      <th>Unnamed: 0</th>\n      <th>area</th>\n      <th>codice_NUTS1</th>\n      <th>codice_NUTS2</th>\n      <th>codice_regione_ISTAT</th>\n      <th>denominazione_struttura</th>\n      <th>lat</th>\n      <th>lng</th>\n      <th>nome_area</th>\n      <th>tipologia</th>\n    </tr>\n  </thead>\n  <tbody>\n    <tr>\n      <th>0</th>\n      <td>0</td>\n      <td>ABR</td>\n      <td>ITF</td>\n      <td>ITF1</td>\n      <td>13</td>\n      <td>AVEZZANO-SULMONA-L'AQUILA</td>\n      <td>42.051257</td>\n      <td>13.934312</td>\n      <td>Abruzzo</td>\n      <td>Ospedaliero</td>\n    </tr>\n    <tr>\n      <th>1</th>\n      <td>1</td>\n      <td>ABR</td>\n      <td>ITF</td>\n      <td>ITF1</td>\n      <td>13</td>\n      <td>CASA DI CURA VILLA SERENA</td>\n      <td>42.521354</td>\n      <td>14.097955</td>\n      <td>Abruzzo</td>\n      <td>Ospedaliero</td>\n    </tr>\n    <tr>\n      <th>2</th>\n      <td>2</td>\n      <td>ABR</td>\n      <td>ITF</td>\n      <td>ITF1</td>\n      <td>13</td>\n      <td>CDC S.CAMILLA-C.RIA.VILLA PINI</td>\n      <td>42.379116</td>\n      <td>14.189817</td>\n      <td>Abruzzo</td>\n      <td>Territoriale</td>\n    </tr>\n    <tr>\n      <th>3</th>\n      <td>3</td>\n      <td>ABR</td>\n      <td>ITF</td>\n      <td>ITF1</td>\n      <td>13</td>\n      <td>CENTRO RIABILITAZIONE  SANEX</td>\n      <td>42.712143</td>\n      <td>13.657788</td>\n      <td>Abruzzo</td>\n      <td>Territoriale</td>\n    </tr>\n    <tr>\n      <th>4</th>\n      <td>4</td>\n      <td>ABR</td>\n      <td>ITF</td>\n      <td>ITF1</td>\n      <td>13</td>\n      <td>CONS. S.STEFANO S.EGIDIO</td>\n      <td>42.823682</td>\n      <td>13.716292</td>\n      <td>Abruzzo</td>\n      <td>Territoriale</td>\n    </tr>\n    <tr>\n      <th>...</th>\n      <td>...</td>\n      <td>...</td>\n      <td>...</td>\n      <td>...</td>\n      <td>...</td>\n      <td>...</td>\n      <td>...</td>\n      <td>...</td>\n      <td>...</td>\n      <td>...</td>\n    </tr>\n    <tr>\n      <th>1986</th>\n      <td>1986</td>\n      <td>VEN</td>\n      <td>ITH</td>\n      <td>ITH3</td>\n      <td>5</td>\n      <td>PRIMAVERA 85 CLP</td>\n      <td>45.530232</td>\n      <td>11.444083</td>\n      <td>Veneto</td>\n      <td>Territoriale</td>\n    </tr>\n    <tr>\n      <th>1987</th>\n      <td>1987</td>\n      <td>VEN</td>\n      <td>ITH</td>\n      <td>ITH3</td>\n      <td>5</td>\n      <td>PSR ALBATROS PIANO INFINITO</td>\n      <td>45.497861</td>\n      <td>11.436092</td>\n      <td>Veneto</td>\n      <td>Territoriale</td>\n    </tr>\n    <tr>\n      <th>1988</th>\n      <td>1988</td>\n      <td>VEN</td>\n      <td>ITH</td>\n      <td>ITH3</td>\n      <td>5</td>\n      <td>PSR MOBY DICK</td>\n      <td>40.781324</td>\n      <td>-73.973988</td>\n      <td>Veneto</td>\n      <td>Territoriale</td>\n    </tr>\n    <tr>\n      <th>1989</th>\n      <td>1989</td>\n      <td>VEN</td>\n      <td>ITH</td>\n      <td>ITH3</td>\n      <td>5</td>\n      <td>PSR NO PROBLEM COOP. STUDIO PROGETTO</td>\n      <td>45.441466</td>\n      <td>12.315259</td>\n      <td>Veneto</td>\n      <td>Territoriale</td>\n    </tr>\n    <tr>\n      <th>1990</th>\n      <td>1990</td>\n      <td>VEN</td>\n      <td>ITH</td>\n      <td>ITH3</td>\n      <td>5</td>\n      <td>RSA \"NOI CON VOI\"  - MOGLIANO VENETO</td>\n      <td>45.656641</td>\n      <td>12.241009</td>\n      <td>Veneto</td>\n      <td>Territoriale</td>\n    </tr>\n  </tbody>\n</table>\n<p>1991 rows × 10 columns</p>\n</div>"
     },
     "metadata": {},
     "execution_count": 2
    }
   ],
   "source": [
    "somm_vacc = pandas.read_csv(\"puntiSomministrazioneVaccini.csv\")\n",
    "somm_vacc"
   ]
  },
  {
   "cell_type": "code",
   "execution_count": 3,
   "metadata": {},
   "outputs": [],
   "source": [
    "punto_utente = Point([45.5070386,9.1911495][::-1])\n",
    "punto = geopandas.GeoSeries([punto_utente], crs='EPSG:4326').to_crs(epsg=3857)\n",
    "buffer = punto.buffer(4000)\n",
    "somm_vacc = geopandas.GeoDataFrame(somm_vacc,geometry=geopandas.points_from_xy(somm_vacc[\"lng\"],somm_vacc[\"lat\"]))\n",
    "somm_vacc.crs = 'epsg:4326'"
   ]
  },
  {
   "cell_type": "code",
   "execution_count": 4,
   "metadata": {},
   "outputs": [],
   "source": [
    "somm_vacc = somm_vacc.to_crs(epsg=3857)\n",
    "buffer = buffer.to_crs(epsg=3857)"
   ]
  },
  {
   "cell_type": "code",
   "execution_count": 5,
   "metadata": {},
   "outputs": [],
   "source": [
    "vacc = somm_vacc[somm_vacc.geometry.within(buffer.geometry.squeeze())]"
   ]
  },
  {
   "cell_type": "code",
   "execution_count": 6,
   "metadata": {},
   "outputs": [
    {
     "output_type": "execute_result",
     "data": {
      "text/plain": [
       "     Unnamed: 0 area codice_NUTS1 codice_NUTS2  codice_regione_ISTAT  \\\n",
       "669         669  LOM          ITC         ITC4                     3   \n",
       "705         705  LOM          ITC         ITC4                     3   \n",
       "750         750  LOM          ITC         ITC4                     3   \n",
       "\n",
       "                      denominazione_struttura        lat       lng  nome_area  \\\n",
       "669  ASST GRANDE OSPEDALE METROPOLITANO NIGUA  45.510049  9.186536  Lombardia   \n",
       "705            CASA DI CURA S. PIO X - MILANO  45.494766  9.189350  Lombardia   \n",
       "750  ISTITUTO ORTOPEDICO GALEAZZI SPA - MILAN  45.523162  9.174005  Lombardia   \n",
       "\n",
       "       tipologia                         geometry  \n",
       "669  Ospedaliero  POINT (1022640.465 5702178.888)  \n",
       "705  Ospedaliero  POINT (1022953.818 5699751.499)  \n",
       "750  Ospedaliero  POINT (1021245.565 5704262.114)  "
      ],
      "text/html": "<div>\n<style scoped>\n    .dataframe tbody tr th:only-of-type {\n        vertical-align: middle;\n    }\n\n    .dataframe tbody tr th {\n        vertical-align: top;\n    }\n\n    .dataframe thead th {\n        text-align: right;\n    }\n</style>\n<table border=\"1\" class=\"dataframe\">\n  <thead>\n    <tr style=\"text-align: right;\">\n      <th></th>\n      <th>Unnamed: 0</th>\n      <th>area</th>\n      <th>codice_NUTS1</th>\n      <th>codice_NUTS2</th>\n      <th>codice_regione_ISTAT</th>\n      <th>denominazione_struttura</th>\n      <th>lat</th>\n      <th>lng</th>\n      <th>nome_area</th>\n      <th>tipologia</th>\n      <th>geometry</th>\n    </tr>\n  </thead>\n  <tbody>\n    <tr>\n      <th>669</th>\n      <td>669</td>\n      <td>LOM</td>\n      <td>ITC</td>\n      <td>ITC4</td>\n      <td>3</td>\n      <td>ASST GRANDE OSPEDALE METROPOLITANO NIGUA</td>\n      <td>45.510049</td>\n      <td>9.186536</td>\n      <td>Lombardia</td>\n      <td>Ospedaliero</td>\n      <td>POINT (1022640.465 5702178.888)</td>\n    </tr>\n    <tr>\n      <th>705</th>\n      <td>705</td>\n      <td>LOM</td>\n      <td>ITC</td>\n      <td>ITC4</td>\n      <td>3</td>\n      <td>CASA DI CURA S. PIO X - MILANO</td>\n      <td>45.494766</td>\n      <td>9.189350</td>\n      <td>Lombardia</td>\n      <td>Ospedaliero</td>\n      <td>POINT (1022953.818 5699751.499)</td>\n    </tr>\n    <tr>\n      <th>750</th>\n      <td>750</td>\n      <td>LOM</td>\n      <td>ITC</td>\n      <td>ITC4</td>\n      <td>3</td>\n      <td>ISTITUTO ORTOPEDICO GALEAZZI SPA - MILAN</td>\n      <td>45.523162</td>\n      <td>9.174005</td>\n      <td>Lombardia</td>\n      <td>Ospedaliero</td>\n      <td>POINT (1021245.565 5704262.114)</td>\n    </tr>\n  </tbody>\n</table>\n</div>"
     },
     "metadata": {},
     "execution_count": 6
    }
   ],
   "source": [
    "vacc"
   ]
  },
  {
   "cell_type": "code",
   "execution_count": 7,
   "metadata": {},
   "outputs": [],
   "source": [
    "latlng = vacc[['lat','lng']]"
   ]
  },
  {
   "cell_type": "code",
   "execution_count": 8,
   "metadata": {},
   "outputs": [
    {
     "output_type": "execute_result",
     "data": {
      "text/plain": [
       "array([[45.5100491,  9.1865356],\n",
       "       [45.494766 ,  9.1893505],\n",
       "       [45.523162 ,  9.174005 ]])"
      ]
     },
     "metadata": {},
     "execution_count": 8
    }
   ],
   "source": [
    "latlng = np.array(latlng)\n",
    "latlng"
   ]
  },
  {
   "cell_type": "code",
   "execution_count": null,
   "metadata": {},
   "outputs": [],
   "source": []
  }
 ]
}