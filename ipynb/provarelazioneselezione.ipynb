{
 "metadata": {
  "language_info": {
   "codemirror_mode": {
    "name": "ipython",
    "version": 3
   },
   "file_extension": ".py",
   "mimetype": "text/x-python",
   "name": "python",
   "nbconvert_exporter": "python",
   "pygments_lexer": "ipython3",
   "version": "3.9.1"
  },
  "orig_nbformat": 2,
  "kernelspec": {
   "name": "python391jvsc74a57bd06b2186e92e5ccf417916dae32a12ace57b536e5d87ebf6bec9f55d3d305f6e91",
   "display_name": "Python 3.9.1 64-bit ('geo_env': conda)"
  }
 },
 "nbformat": 4,
 "nbformat_minor": 2,
 "cells": [
  {
   "cell_type": "code",
   "execution_count": 2,
   "metadata": {},
   "outputs": [
    {
     "output_type": "execute_result",
     "data": {
      "text/plain": [
       "('669', 'LOM', 'ITC', 'ITC4', 3, 'ASST GRANDE OSPEDALE METROPOLITANO NIGUARDA', 45.5100491, 9.1865356, 'Lombardia', 'Ospedaliero')"
      ]
     },
     "metadata": {},
     "execution_count": 2
    }
   ],
   "source": [
    "import pyodbc as py\n",
    "\n",
    "server = \"213.140.22.237\\SQLEXPRESS\"\n",
    "database = \"zanella.luca\"\n",
    "username = \"zanella.luca\"\n",
    "password = \"xxx123##\"\n",
    "conn = py.connect('DRIVER={SQL Server};SERVER='+server+';DATABASE='+database+';UID='+username+';PWD='+ password) \n",
    "cursor = conn.cursor()\n",
    "lat = 45.5100491\n",
    "lon =  9.1865356\n",
    "cursor.execute('SELECT * FROM dbo.puntiSomministrazioneVaccini WHERE lat = (?) AND lng = (?) ',(lat,lon))\n",
    "prova = cursor.fetchone()\n",
    "prova\n",
    "\n",
    "\n",
    "\n",
    "#45.523162 9.174005"
   ]
  },
  {
   "cell_type": "code",
   "execution_count": null,
   "metadata": {},
   "outputs": [],
   "source": []
  }
 ]
}