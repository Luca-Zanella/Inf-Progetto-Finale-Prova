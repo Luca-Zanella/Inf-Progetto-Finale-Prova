{
 "metadata": {
  "language_info": {
   "codemirror_mode": {
    "name": "ipython",
    "version": 3
   },
   "file_extension": ".py",
   "mimetype": "text/x-python",
   "name": "python",
   "nbconvert_exporter": "python",
   "pygments_lexer": "ipython3",
   "version": "3.9.2"
  },
  "orig_nbformat": 2,
  "kernelspec": {
   "name": "python392jvsc74a57bd06b2186e92e5ccf417916dae32a12ace57b536e5d87ebf6bec9f55d3d305f6e91",
   "display_name": "Python 3.9.2 64-bit ('geo_env': conda)"
  }
 },
 "nbformat": 4,
 "nbformat_minor": 2,
 "cells": [
  {
   "cell_type": "code",
   "execution_count": 5,
   "metadata": {},
   "outputs": [],
   "source": [
    "import geopandas\n",
    "import pandas\n",
    "import pyodbc\n",
    "import numpy as np\n"
   ]
  },
  {
   "cell_type": "code",
   "execution_count": 6,
   "metadata": {},
   "outputs": [],
   "source": [
    "server = \"213.140.22.237\\SQLEXPRESS\"\n",
    "database = \"zanella.luca\"\n",
    "username = \"zanella.luca\"\n",
    "password = \"xxx123##\""
   ]
  },
  {
   "cell_type": "code",
   "execution_count": 7,
   "metadata": {},
   "outputs": [],
   "source": [
    "conn = pyodbc.connect('DRIVER={SQL Server};SERVER='+server+';DATABASE='+database+';UID='+username+';PWD='+ password)"
   ]
  },
  {
   "cell_type": "code",
   "execution_count": 8,
   "metadata": {},
   "outputs": [],
   "source": [
    "query_somm_vacc = 'SELECT * FROM dbo.puntiSomministrazioneVaccini'\n",
    "somm_vacc = pandas.read_sql_query(query_somm_vacc,conn)"
   ]
  },
  {
   "cell_type": "code",
   "execution_count": 9,
   "metadata": {},
   "outputs": [
    {
     "output_type": "execute_result",
     "data": {
      "text/plain": [
       "     column1 area codice_NUTS1 codice_NUTS2  codice_regione_ISTAT  \\\n",
       "0          0  ABR          ITF         ITF1                    13   \n",
       "1          1  ABR          ITF         ITF1                    13   \n",
       "2          2  ABR          ITF         ITF1                    13   \n",
       "3          3  ABR          ITF         ITF1                    13   \n",
       "4          4  ABR          ITF         ITF1                    13   \n",
       "...      ...  ...          ...          ...                   ...   \n",
       "1988    1988  VEN          ITH         ITH3                     5   \n",
       "1989    1989  VEN          ITH         ITH3                     5   \n",
       "1990    1990  VEN          ITH         ITH3                     5   \n",
       "1991    1991  LOM          ITC         ITC4                     3   \n",
       "1992    1992  LOM          ITC         ITC4                     3   \n",
       "\n",
       "                   denominazione_struttura        lat        lng  nome_area  \\\n",
       "0                AVEZZANO-SULMONA-L'AQUILA  42.051257  13.934312    Abruzzo   \n",
       "1                CASA DI CURA VILLA SERENA  42.521354  14.097955    Abruzzo   \n",
       "2           CDC S.CAMILLA-C.RIA.VILLA PINI  42.379116  14.189817    Abruzzo   \n",
       "3             CENTRO RIABILITAZIONE  SANEX  42.712143  13.657788    Abruzzo   \n",
       "4                 CONS. S.STEFANO S.EGIDIO  42.823682  13.716292    Abruzzo   \n",
       "...                                    ...        ...        ...        ...   \n",
       "1988                         PSR MOBY DICK  40.781324 -73.973988     Veneto   \n",
       "1989  PSR NO PROBLEM COOP. STUDIO PROGETTO  45.441466  12.315259     Veneto   \n",
       "1990    RSA NOI CON VOI  - MOGLIANO VENETO  45.656641  12.241009     Veneto   \n",
       "1991       PRESIDIO TERRITORIALE IPPOCRATE  45.521342   9.163329  Lombarida   \n",
       "1992                 OSPEDALE FIERA MILANO  45.483415   9.149910  Lombardia   \n",
       "\n",
       "         tipologia  \n",
       "0      Ospedaliero  \n",
       "1      Ospedaliero  \n",
       "2     Territoriale  \n",
       "3     Territoriale  \n",
       "4     Territoriale  \n",
       "...            ...  \n",
       "1988  Territoriale  \n",
       "1989  Territoriale  \n",
       "1990  Territoriale  \n",
       "1991  Territoriale  \n",
       "1992   Ospedaliero  \n",
       "\n",
       "[1993 rows x 10 columns]"
      ],
      "text/html": "<div>\n<style scoped>\n    .dataframe tbody tr th:only-of-type {\n        vertical-align: middle;\n    }\n\n    .dataframe tbody tr th {\n        vertical-align: top;\n    }\n\n    .dataframe thead th {\n        text-align: right;\n    }\n</style>\n<table border=\"1\" class=\"dataframe\">\n  <thead>\n    <tr style=\"text-align: right;\">\n      <th></th>\n      <th>column1</th>\n      <th>area</th>\n      <th>codice_NUTS1</th>\n      <th>codice_NUTS2</th>\n      <th>codice_regione_ISTAT</th>\n      <th>denominazione_struttura</th>\n      <th>lat</th>\n      <th>lng</th>\n      <th>nome_area</th>\n      <th>tipologia</th>\n    </tr>\n  </thead>\n  <tbody>\n    <tr>\n      <th>0</th>\n      <td>0</td>\n      <td>ABR</td>\n      <td>ITF</td>\n      <td>ITF1</td>\n      <td>13</td>\n      <td>AVEZZANO-SULMONA-L'AQUILA</td>\n      <td>42.051257</td>\n      <td>13.934312</td>\n      <td>Abruzzo</td>\n      <td>Ospedaliero</td>\n    </tr>\n    <tr>\n      <th>1</th>\n      <td>1</td>\n      <td>ABR</td>\n      <td>ITF</td>\n      <td>ITF1</td>\n      <td>13</td>\n      <td>CASA DI CURA VILLA SERENA</td>\n      <td>42.521354</td>\n      <td>14.097955</td>\n      <td>Abruzzo</td>\n      <td>Ospedaliero</td>\n    </tr>\n    <tr>\n      <th>2</th>\n      <td>2</td>\n      <td>ABR</td>\n      <td>ITF</td>\n      <td>ITF1</td>\n      <td>13</td>\n      <td>CDC S.CAMILLA-C.RIA.VILLA PINI</td>\n      <td>42.379116</td>\n      <td>14.189817</td>\n      <td>Abruzzo</td>\n      <td>Territoriale</td>\n    </tr>\n    <tr>\n      <th>3</th>\n      <td>3</td>\n      <td>ABR</td>\n      <td>ITF</td>\n      <td>ITF1</td>\n      <td>13</td>\n      <td>CENTRO RIABILITAZIONE  SANEX</td>\n      <td>42.712143</td>\n      <td>13.657788</td>\n      <td>Abruzzo</td>\n      <td>Territoriale</td>\n    </tr>\n    <tr>\n      <th>4</th>\n      <td>4</td>\n      <td>ABR</td>\n      <td>ITF</td>\n      <td>ITF1</td>\n      <td>13</td>\n      <td>CONS. S.STEFANO S.EGIDIO</td>\n      <td>42.823682</td>\n      <td>13.716292</td>\n      <td>Abruzzo</td>\n      <td>Territoriale</td>\n    </tr>\n    <tr>\n      <th>...</th>\n      <td>...</td>\n      <td>...</td>\n      <td>...</td>\n      <td>...</td>\n      <td>...</td>\n      <td>...</td>\n      <td>...</td>\n      <td>...</td>\n      <td>...</td>\n      <td>...</td>\n    </tr>\n    <tr>\n      <th>1988</th>\n      <td>1988</td>\n      <td>VEN</td>\n      <td>ITH</td>\n      <td>ITH3</td>\n      <td>5</td>\n      <td>PSR MOBY DICK</td>\n      <td>40.781324</td>\n      <td>-73.973988</td>\n      <td>Veneto</td>\n      <td>Territoriale</td>\n    </tr>\n    <tr>\n      <th>1989</th>\n      <td>1989</td>\n      <td>VEN</td>\n      <td>ITH</td>\n      <td>ITH3</td>\n      <td>5</td>\n      <td>PSR NO PROBLEM COOP. STUDIO PROGETTO</td>\n      <td>45.441466</td>\n      <td>12.315259</td>\n      <td>Veneto</td>\n      <td>Territoriale</td>\n    </tr>\n    <tr>\n      <th>1990</th>\n      <td>1990</td>\n      <td>VEN</td>\n      <td>ITH</td>\n      <td>ITH3</td>\n      <td>5</td>\n      <td>RSA NOI CON VOI  - MOGLIANO VENETO</td>\n      <td>45.656641</td>\n      <td>12.241009</td>\n      <td>Veneto</td>\n      <td>Territoriale</td>\n    </tr>\n    <tr>\n      <th>1991</th>\n      <td>1991</td>\n      <td>LOM</td>\n      <td>ITC</td>\n      <td>ITC4</td>\n      <td>3</td>\n      <td>PRESIDIO TERRITORIALE IPPOCRATE</td>\n      <td>45.521342</td>\n      <td>9.163329</td>\n      <td>Lombarida</td>\n      <td>Territoriale</td>\n    </tr>\n    <tr>\n      <th>1992</th>\n      <td>1992</td>\n      <td>LOM</td>\n      <td>ITC</td>\n      <td>ITC4</td>\n      <td>3</td>\n      <td>OSPEDALE FIERA MILANO</td>\n      <td>45.483415</td>\n      <td>9.149910</td>\n      <td>Lombardia</td>\n      <td>Ospedaliero</td>\n    </tr>\n  </tbody>\n</table>\n<p>1993 rows × 10 columns</p>\n</div>"
     },
     "metadata": {},
     "execution_count": 9
    }
   ],
   "source": [
    "somm_vacc"
   ]
  },
  {
   "cell_type": "code",
   "execution_count": 10,
   "metadata": {},
   "outputs": [],
   "source": [
    "from shapely.geometry import Point\n",
    "\n",
    "punto_utente = Point([45.4978672,9.1746517][::-1])\n",
    "punto = geopandas.GeoSeries([punto_utente],crs=\"EPSG:4326\").to_crs(epsg=3857)\n",
    "buffer = punto.buffer(5000)\n",
    "somm_vacc = geopandas.GeoDataFrame(somm_vacc,geometry=geopandas.points_from_xy(somm_vacc['lng'],somm_vacc['lat']))\n",
    "somm_vacc.crs = \"EPSG:4326\""
   ]
  },
  {
   "cell_type": "code",
   "execution_count": 11,
   "metadata": {},
   "outputs": [],
   "source": [
    "somm_vacc = somm_vacc.to_crs(epsg=3857)\n",
    "buffer = buffer.to_crs(epsg=3857)"
   ]
  },
  {
   "cell_type": "code",
   "execution_count": 12,
   "metadata": {},
   "outputs": [
    {
     "output_type": "execute_result",
     "data": {
      "text/plain": [
       "     column1 area codice_NUTS1 codice_NUTS2  codice_regione_ISTAT  \\\n",
       "669      669  LOM          ITC         ITC4                     3   \n",
       "672      672  LOM          ITC         ITC4                     3   \n",
       "705      705  LOM          ITC         ITC4                     3   \n",
       "706      706  LOM          ITC         ITC4                     3   \n",
       "735      735  LOM          ITC         ITC4                     3   \n",
       "738      738  LOM          ITC         ITC4                     3   \n",
       "750      750  LOM          ITC         ITC4                     3   \n",
       "1991    1991  LOM          ITC         ITC4                     3   \n",
       "1992    1992  LOM          ITC         ITC4                     3   \n",
       "\n",
       "                          denominazione_struttura        lat       lng  \\\n",
       "669   ASST GRANDE OSPEDALE METROPOLITANO NIGUARDA  45.510049  9.186536   \n",
       "672                              ASST NORD MILANO  45.466574  9.171866   \n",
       "705                CASA DI CURA S. PIO X - MILANO  45.494766  9.189350   \n",
       "706                        CASA DI CURA S.CAMILLO  45.481789  9.204472   \n",
       "735      IST.AUXOLOGICO ITAL.-I.S. S.MICHELE-MILA  45.469474  9.165508   \n",
       "738             IST.CLINICO S.AMBROGIO SPA-MILANO  45.484423  9.153459   \n",
       "750      ISTITUTO ORTOPEDICO GALEAZZI SPA - MILAN  45.523162  9.174005   \n",
       "1991              PRESIDIO TERRITORIALE IPPOCRATE  45.521342  9.163329   \n",
       "1992                        OSPEDALE FIERA MILANO  45.483415  9.149910   \n",
       "\n",
       "      nome_area     tipologia                         geometry  \n",
       "669   Lombardia   Ospedaliero  POINT (1022640.465 5702178.888)  \n",
       "672   Lombardia   Ospedaliero  POINT (1021007.497 5695275.570)  \n",
       "705   Lombardia   Ospedaliero  POINT (1022953.818 5699751.499)  \n",
       "706   Lombardia  Territoriale  POINT (1024637.181 5697690.853)  \n",
       "735   Lombardia   Ospedaliero  POINT (1020299.639 5695735.923)  \n",
       "738   Lombardia   Ospedaliero  POINT (1018958.395 5698109.111)  \n",
       "750   Lombardia   Ospedaliero  POINT (1021245.565 5704262.114)  \n",
       "1991  Lombarida  Territoriale  POINT (1020057.174 5703972.960)  \n",
       "1992  Lombardia   Ospedaliero  POINT (1018563.311 5697949.097)  "
      ],
      "text/html": "<div>\n<style scoped>\n    .dataframe tbody tr th:only-of-type {\n        vertical-align: middle;\n    }\n\n    .dataframe tbody tr th {\n        vertical-align: top;\n    }\n\n    .dataframe thead th {\n        text-align: right;\n    }\n</style>\n<table border=\"1\" class=\"dataframe\">\n  <thead>\n    <tr style=\"text-align: right;\">\n      <th></th>\n      <th>column1</th>\n      <th>area</th>\n      <th>codice_NUTS1</th>\n      <th>codice_NUTS2</th>\n      <th>codice_regione_ISTAT</th>\n      <th>denominazione_struttura</th>\n      <th>lat</th>\n      <th>lng</th>\n      <th>nome_area</th>\n      <th>tipologia</th>\n      <th>geometry</th>\n    </tr>\n  </thead>\n  <tbody>\n    <tr>\n      <th>669</th>\n      <td>669</td>\n      <td>LOM</td>\n      <td>ITC</td>\n      <td>ITC4</td>\n      <td>3</td>\n      <td>ASST GRANDE OSPEDALE METROPOLITANO NIGUARDA</td>\n      <td>45.510049</td>\n      <td>9.186536</td>\n      <td>Lombardia</td>\n      <td>Ospedaliero</td>\n      <td>POINT (1022640.465 5702178.888)</td>\n    </tr>\n    <tr>\n      <th>672</th>\n      <td>672</td>\n      <td>LOM</td>\n      <td>ITC</td>\n      <td>ITC4</td>\n      <td>3</td>\n      <td>ASST NORD MILANO</td>\n      <td>45.466574</td>\n      <td>9.171866</td>\n      <td>Lombardia</td>\n      <td>Ospedaliero</td>\n      <td>POINT (1021007.497 5695275.570)</td>\n    </tr>\n    <tr>\n      <th>705</th>\n      <td>705</td>\n      <td>LOM</td>\n      <td>ITC</td>\n      <td>ITC4</td>\n      <td>3</td>\n      <td>CASA DI CURA S. PIO X - MILANO</td>\n      <td>45.494766</td>\n      <td>9.189350</td>\n      <td>Lombardia</td>\n      <td>Ospedaliero</td>\n      <td>POINT (1022953.818 5699751.499)</td>\n    </tr>\n    <tr>\n      <th>706</th>\n      <td>706</td>\n      <td>LOM</td>\n      <td>ITC</td>\n      <td>ITC4</td>\n      <td>3</td>\n      <td>CASA DI CURA S.CAMILLO</td>\n      <td>45.481789</td>\n      <td>9.204472</td>\n      <td>Lombardia</td>\n      <td>Territoriale</td>\n      <td>POINT (1024637.181 5697690.853)</td>\n    </tr>\n    <tr>\n      <th>735</th>\n      <td>735</td>\n      <td>LOM</td>\n      <td>ITC</td>\n      <td>ITC4</td>\n      <td>3</td>\n      <td>IST.AUXOLOGICO ITAL.-I.S. S.MICHELE-MILA</td>\n      <td>45.469474</td>\n      <td>9.165508</td>\n      <td>Lombardia</td>\n      <td>Ospedaliero</td>\n      <td>POINT (1020299.639 5695735.923)</td>\n    </tr>\n    <tr>\n      <th>738</th>\n      <td>738</td>\n      <td>LOM</td>\n      <td>ITC</td>\n      <td>ITC4</td>\n      <td>3</td>\n      <td>IST.CLINICO S.AMBROGIO SPA-MILANO</td>\n      <td>45.484423</td>\n      <td>9.153459</td>\n      <td>Lombardia</td>\n      <td>Ospedaliero</td>\n      <td>POINT (1018958.395 5698109.111)</td>\n    </tr>\n    <tr>\n      <th>750</th>\n      <td>750</td>\n      <td>LOM</td>\n      <td>ITC</td>\n      <td>ITC4</td>\n      <td>3</td>\n      <td>ISTITUTO ORTOPEDICO GALEAZZI SPA - MILAN</td>\n      <td>45.523162</td>\n      <td>9.174005</td>\n      <td>Lombardia</td>\n      <td>Ospedaliero</td>\n      <td>POINT (1021245.565 5704262.114)</td>\n    </tr>\n    <tr>\n      <th>1991</th>\n      <td>1991</td>\n      <td>LOM</td>\n      <td>ITC</td>\n      <td>ITC4</td>\n      <td>3</td>\n      <td>PRESIDIO TERRITORIALE IPPOCRATE</td>\n      <td>45.521342</td>\n      <td>9.163329</td>\n      <td>Lombarida</td>\n      <td>Territoriale</td>\n      <td>POINT (1020057.174 5703972.960)</td>\n    </tr>\n    <tr>\n      <th>1992</th>\n      <td>1992</td>\n      <td>LOM</td>\n      <td>ITC</td>\n      <td>ITC4</td>\n      <td>3</td>\n      <td>OSPEDALE FIERA MILANO</td>\n      <td>45.483415</td>\n      <td>9.149910</td>\n      <td>Lombardia</td>\n      <td>Ospedaliero</td>\n      <td>POINT (1018563.311 5697949.097)</td>\n    </tr>\n  </tbody>\n</table>\n</div>"
     },
     "metadata": {},
     "execution_count": 12
    }
   ],
   "source": [
    "vacc = somm_vacc[somm_vacc.within(buffer.geometry.squeeze())]\n",
    "vacc"
   ]
  },
  {
   "cell_type": "code",
   "execution_count": 13,
   "metadata": {},
   "outputs": [],
   "source": [
    "coordinate = np.array(vacc[['lat','lng','denominazione_struttura']])"
   ]
  },
  {
   "cell_type": "code",
   "execution_count": 14,
   "metadata": {},
   "outputs": [],
   "source": [
    "result = \"\"\n",
    "for cord in coordinate:\n",
    "    result += \"[\" + str(cord[1]) + \",\" + str(cord[0]) + \",\"  + \"'\"  + str   (cord[2]) + \"'\" + \"],\"\n",
    "\n",
    "#la lunghezza di result - l'ultimo carattere che è la virgola che non mi serve più le quadre è per l'array muldidimansionale\n",
    "result = \"[\" + result[0:len(result) -1] + \"]\""
   ]
  },
  {
   "cell_type": "code",
   "execution_count": 15,
   "metadata": {},
   "outputs": [
    {
     "output_type": "execute_result",
     "data": {
      "text/plain": [
       "\"[[9.1865356,45.5100491,'ASST GRANDE OSPEDALE METROPOLITANO NIGUARDA'],[9.171866399999999,45.4665742,'ASST NORD MILANO'],[9.1893505,45.494766,'CASA DI CURA S. PIO X - MILANO'],[9.2044724,45.4817887,'CASA DI CURA S.CAMILLO'],[9.1655076,45.4694744,'IST.AUXOLOGICO ITAL.-I.S. S.MICHELE-MILA'],[9.153459000000002,45.484423,'IST.CLINICO S.AMBROGIO SPA-MILANO'],[9.174005,45.523162,'ISTITUTO ORTOPEDICO GALEAZZI SPA - MILAN'],[9.1633295,45.5213421,'PRESIDIO TERRITORIALE IPPOCRATE'],[9.1499099,45.4834152,'OSPEDALE FIERA MILANO']]\""
      ]
     },
     "metadata": {},
     "execution_count": 15
    }
   ],
   "source": [
    "result"
   ]
  },
  {
   "cell_type": "code",
   "execution_count": 16,
   "metadata": {},
   "outputs": [],
   "source": [
    "import pymssql\n",
    "\n",
    "server = \"213.140.22.237\\SQLEXPRESS\"\n",
    "database = \"zanella.luca\"\n",
    "username = \"zanella.luca\"\n",
    "password = \"xxx123##\"\n",
    "\n",
    "conn_pymssql = pymssql.connect(server,username,password,database)\n",
    "cursor = conn_pymssql.cursor()"
   ]
  },
  {
   "cell_type": "code",
   "execution_count": 17,
   "metadata": {},
   "outputs": [
    {
     "output_type": "execute_result",
     "data": {
      "text/plain": [
       "     column1 area codice_NUTS1 codice_NUTS2  codice_regione_ISTAT  \\\n",
       "0          0  ABR          ITF         ITF1                    13   \n",
       "1          1  ABR          ITF         ITF1                    13   \n",
       "2          2  ABR          ITF         ITF1                    13   \n",
       "3          3  ABR          ITF         ITF1                    13   \n",
       "4          4  ABR          ITF         ITF1                    13   \n",
       "...      ...  ...          ...          ...                   ...   \n",
       "1988    1988  VEN          ITH         ITH3                     5   \n",
       "1989    1989  VEN          ITH         ITH3                     5   \n",
       "1990    1990  VEN          ITH         ITH3                     5   \n",
       "1991    1991  LOM          ITC         ITC4                     3   \n",
       "1992    1992  LOM          ITC         ITC4                     3   \n",
       "\n",
       "                   denominazione_struttura        lat        lng  nome_area  \\\n",
       "0                AVEZZANO-SULMONA-L'AQUILA  42.051257  13.934312    Abruzzo   \n",
       "1                CASA DI CURA VILLA SERENA  42.521354  14.097955    Abruzzo   \n",
       "2           CDC S.CAMILLA-C.RIA.VILLA PINI  42.379116  14.189817    Abruzzo   \n",
       "3             CENTRO RIABILITAZIONE  SANEX  42.712143  13.657788    Abruzzo   \n",
       "4                 CONS. S.STEFANO S.EGIDIO  42.823682  13.716292    Abruzzo   \n",
       "...                                    ...        ...        ...        ...   \n",
       "1988                         PSR MOBY DICK  40.781324 -73.973988     Veneto   \n",
       "1989  PSR NO PROBLEM COOP. STUDIO PROGETTO  45.441466  12.315259     Veneto   \n",
       "1990    RSA NOI CON VOI  - MOGLIANO VENETO  45.656641  12.241009     Veneto   \n",
       "1991       PRESIDIO TERRITORIALE IPPOCRATE  45.521342   9.163329  Lombarida   \n",
       "1992                 OSPEDALE FIERA MILANO  45.483415   9.149910  Lombardia   \n",
       "\n",
       "         tipologia  \n",
       "0      Ospedaliero  \n",
       "1      Ospedaliero  \n",
       "2     Territoriale  \n",
       "3     Territoriale  \n",
       "4     Territoriale  \n",
       "...            ...  \n",
       "1988  Territoriale  \n",
       "1989  Territoriale  \n",
       "1990  Territoriale  \n",
       "1991  Territoriale  \n",
       "1992   Ospedaliero  \n",
       "\n",
       "[1993 rows x 10 columns]"
      ],
      "text/html": "<div>\n<style scoped>\n    .dataframe tbody tr th:only-of-type {\n        vertical-align: middle;\n    }\n\n    .dataframe tbody tr th {\n        vertical-align: top;\n    }\n\n    .dataframe thead th {\n        text-align: right;\n    }\n</style>\n<table border=\"1\" class=\"dataframe\">\n  <thead>\n    <tr style=\"text-align: right;\">\n      <th></th>\n      <th>column1</th>\n      <th>area</th>\n      <th>codice_NUTS1</th>\n      <th>codice_NUTS2</th>\n      <th>codice_regione_ISTAT</th>\n      <th>denominazione_struttura</th>\n      <th>lat</th>\n      <th>lng</th>\n      <th>nome_area</th>\n      <th>tipologia</th>\n    </tr>\n  </thead>\n  <tbody>\n    <tr>\n      <th>0</th>\n      <td>0</td>\n      <td>ABR</td>\n      <td>ITF</td>\n      <td>ITF1</td>\n      <td>13</td>\n      <td>AVEZZANO-SULMONA-L'AQUILA</td>\n      <td>42.051257</td>\n      <td>13.934312</td>\n      <td>Abruzzo</td>\n      <td>Ospedaliero</td>\n    </tr>\n    <tr>\n      <th>1</th>\n      <td>1</td>\n      <td>ABR</td>\n      <td>ITF</td>\n      <td>ITF1</td>\n      <td>13</td>\n      <td>CASA DI CURA VILLA SERENA</td>\n      <td>42.521354</td>\n      <td>14.097955</td>\n      <td>Abruzzo</td>\n      <td>Ospedaliero</td>\n    </tr>\n    <tr>\n      <th>2</th>\n      <td>2</td>\n      <td>ABR</td>\n      <td>ITF</td>\n      <td>ITF1</td>\n      <td>13</td>\n      <td>CDC S.CAMILLA-C.RIA.VILLA PINI</td>\n      <td>42.379116</td>\n      <td>14.189817</td>\n      <td>Abruzzo</td>\n      <td>Territoriale</td>\n    </tr>\n    <tr>\n      <th>3</th>\n      <td>3</td>\n      <td>ABR</td>\n      <td>ITF</td>\n      <td>ITF1</td>\n      <td>13</td>\n      <td>CENTRO RIABILITAZIONE  SANEX</td>\n      <td>42.712143</td>\n      <td>13.657788</td>\n      <td>Abruzzo</td>\n      <td>Territoriale</td>\n    </tr>\n    <tr>\n      <th>4</th>\n      <td>4</td>\n      <td>ABR</td>\n      <td>ITF</td>\n      <td>ITF1</td>\n      <td>13</td>\n      <td>CONS. S.STEFANO S.EGIDIO</td>\n      <td>42.823682</td>\n      <td>13.716292</td>\n      <td>Abruzzo</td>\n      <td>Territoriale</td>\n    </tr>\n    <tr>\n      <th>...</th>\n      <td>...</td>\n      <td>...</td>\n      <td>...</td>\n      <td>...</td>\n      <td>...</td>\n      <td>...</td>\n      <td>...</td>\n      <td>...</td>\n      <td>...</td>\n      <td>...</td>\n    </tr>\n    <tr>\n      <th>1988</th>\n      <td>1988</td>\n      <td>VEN</td>\n      <td>ITH</td>\n      <td>ITH3</td>\n      <td>5</td>\n      <td>PSR MOBY DICK</td>\n      <td>40.781324</td>\n      <td>-73.973988</td>\n      <td>Veneto</td>\n      <td>Territoriale</td>\n    </tr>\n    <tr>\n      <th>1989</th>\n      <td>1989</td>\n      <td>VEN</td>\n      <td>ITH</td>\n      <td>ITH3</td>\n      <td>5</td>\n      <td>PSR NO PROBLEM COOP. STUDIO PROGETTO</td>\n      <td>45.441466</td>\n      <td>12.315259</td>\n      <td>Veneto</td>\n      <td>Territoriale</td>\n    </tr>\n    <tr>\n      <th>1990</th>\n      <td>1990</td>\n      <td>VEN</td>\n      <td>ITH</td>\n      <td>ITH3</td>\n      <td>5</td>\n      <td>RSA NOI CON VOI  - MOGLIANO VENETO</td>\n      <td>45.656641</td>\n      <td>12.241009</td>\n      <td>Veneto</td>\n      <td>Territoriale</td>\n    </tr>\n    <tr>\n      <th>1991</th>\n      <td>1991</td>\n      <td>LOM</td>\n      <td>ITC</td>\n      <td>ITC4</td>\n      <td>3</td>\n      <td>PRESIDIO TERRITORIALE IPPOCRATE</td>\n      <td>45.521342</td>\n      <td>9.163329</td>\n      <td>Lombarida</td>\n      <td>Territoriale</td>\n    </tr>\n    <tr>\n      <th>1992</th>\n      <td>1992</td>\n      <td>LOM</td>\n      <td>ITC</td>\n      <td>ITC4</td>\n      <td>3</td>\n      <td>OSPEDALE FIERA MILANO</td>\n      <td>45.483415</td>\n      <td>9.149910</td>\n      <td>Lombardia</td>\n      <td>Ospedaliero</td>\n    </tr>\n  </tbody>\n</table>\n<p>1993 rows × 10 columns</p>\n</div>"
     },
     "metadata": {},
     "execution_count": 17
    }
   ],
   "source": [
    "query_somm_vacc = 'SELECT * FROM dbo.puntiSomministrazioneVaccini'\n",
    "somm_vacc = pandas.read_sql_query(query_somm_vacc,conn_pymssql)\n",
    "somm_vacc"
   ]
  },
  {
   "cell_type": "code",
   "execution_count": null,
   "metadata": {},
   "outputs": [],
   "source": []
  }
 ]
}