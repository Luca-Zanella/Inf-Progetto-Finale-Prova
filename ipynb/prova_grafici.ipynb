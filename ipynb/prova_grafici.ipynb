{
 "metadata": {
  "language_info": {
   "codemirror_mode": {
    "name": "ipython",
    "version": 3
   },
   "file_extension": ".py",
   "mimetype": "text/x-python",
   "name": "python",
   "nbconvert_exporter": "python",
   "pygments_lexer": "ipython3",
   "version": "3.9.2"
  },
  "orig_nbformat": 2,
  "kernelspec": {
   "name": "python392jvsc74a57bd06b2186e92e5ccf417916dae32a12ace57b536e5d87ebf6bec9f55d3d305f6e91",
   "display_name": "Python 3.9.2 64-bit ('geo_env': conda)"
  }
 },
 "nbformat": 4,
 "nbformat_minor": 2,
 "cells": [
  {
   "cell_type": "code",
   "execution_count": 16,
   "metadata": {},
   "outputs": [],
   "source": [
    "import pyodbc as py\n",
    "import pandas as pd\n",
    "\n",
    "server = \"213.140.22.237\\SQLEXPRESS\"\n",
    "database = \"zanella.luca\"\n",
    "username = \"zanella.luca\"\n",
    "password = \"xxx123##\"\n",
    "conn = py.connect('DRIVER={SQL Server};SERVER='+server+';DATABASE='+database+';UID='+username+';PWD='+ password) \n",
    "cursor = conn.cursor()"
   ]
  },
  {
   "cell_type": "code",
   "execution_count": 17,
   "metadata": {},
   "outputs": [
    {
     "output_type": "execute_result",
     "data": {
      "text/plain": [
       "   area  num_vacc\n",
       "0   ABR        40\n",
       "1   BAS        26\n",
       "2   CAL        88\n",
       "3   CAM        51\n",
       "4   EMR       130\n",
       "5   FVG        45\n",
       "6   LAZ       138\n",
       "7   LIG       133\n",
       "8   LOM       111\n",
       "9   MAR        49\n",
       "10  MOL         5\n",
       "11  PAB        33\n",
       "12  PAT        15\n",
       "13  PIE       161\n",
       "14  PUG       362\n",
       "15  SAR        76\n",
       "16  SIC       165\n",
       "17  TOS       151\n",
       "18  UMB        40\n",
       "19  VDA         7\n",
       "20  VEN       165"
      ],
      "text/html": "<div>\n<style scoped>\n    .dataframe tbody tr th:only-of-type {\n        vertical-align: middle;\n    }\n\n    .dataframe tbody tr th {\n        vertical-align: top;\n    }\n\n    .dataframe thead th {\n        text-align: right;\n    }\n</style>\n<table border=\"1\" class=\"dataframe\">\n  <thead>\n    <tr style=\"text-align: right;\">\n      <th></th>\n      <th>area</th>\n      <th>num_vacc</th>\n    </tr>\n  </thead>\n  <tbody>\n    <tr>\n      <th>0</th>\n      <td>ABR</td>\n      <td>40</td>\n    </tr>\n    <tr>\n      <th>1</th>\n      <td>BAS</td>\n      <td>26</td>\n    </tr>\n    <tr>\n      <th>2</th>\n      <td>CAL</td>\n      <td>88</td>\n    </tr>\n    <tr>\n      <th>3</th>\n      <td>CAM</td>\n      <td>51</td>\n    </tr>\n    <tr>\n      <th>4</th>\n      <td>EMR</td>\n      <td>130</td>\n    </tr>\n    <tr>\n      <th>5</th>\n      <td>FVG</td>\n      <td>45</td>\n    </tr>\n    <tr>\n      <th>6</th>\n      <td>LAZ</td>\n      <td>138</td>\n    </tr>\n    <tr>\n      <th>7</th>\n      <td>LIG</td>\n      <td>133</td>\n    </tr>\n    <tr>\n      <th>8</th>\n      <td>LOM</td>\n      <td>111</td>\n    </tr>\n    <tr>\n      <th>9</th>\n      <td>MAR</td>\n      <td>49</td>\n    </tr>\n    <tr>\n      <th>10</th>\n      <td>MOL</td>\n      <td>5</td>\n    </tr>\n    <tr>\n      <th>11</th>\n      <td>PAB</td>\n      <td>33</td>\n    </tr>\n    <tr>\n      <th>12</th>\n      <td>PAT</td>\n      <td>15</td>\n    </tr>\n    <tr>\n      <th>13</th>\n      <td>PIE</td>\n      <td>161</td>\n    </tr>\n    <tr>\n      <th>14</th>\n      <td>PUG</td>\n      <td>362</td>\n    </tr>\n    <tr>\n      <th>15</th>\n      <td>SAR</td>\n      <td>76</td>\n    </tr>\n    <tr>\n      <th>16</th>\n      <td>SIC</td>\n      <td>165</td>\n    </tr>\n    <tr>\n      <th>17</th>\n      <td>TOS</td>\n      <td>151</td>\n    </tr>\n    <tr>\n      <th>18</th>\n      <td>UMB</td>\n      <td>40</td>\n    </tr>\n    <tr>\n      <th>19</th>\n      <td>VDA</td>\n      <td>7</td>\n    </tr>\n    <tr>\n      <th>20</th>\n      <td>VEN</td>\n      <td>165</td>\n    </tr>\n  </tbody>\n</table>\n</div>"
     },
     "metadata": {},
     "execution_count": 17
    }
   ],
   "source": [
    "query_graph = \"SELECT * FROM dbo.ProvapuntiSomministrazioneVaccini\"\n",
    "df_graph = pd.read_sql(query_graph,conn)\n",
    "\n",
    "df_graph = df_graph.groupby(\"area\").count()[\"Column_1\"].reset_index(name=\"num_vacc\")\n",
    "df_graph"
   ]
  },
  {
   "cell_type": "code",
   "execution_count": 18,
   "metadata": {},
   "outputs": [
    {
     "output_type": "execute_result",
     "data": {
      "text/plain": [
       "      data_somministrazione                fornitore area fascia_anagrafica  \\\n",
       "0                2020-12-27          Pfizer/BioNTech  ABR             20-29   \n",
       "1                2020-12-27          Pfizer/BioNTech  ABR             30-39   \n",
       "2                2020-12-27          Pfizer/BioNTech  ABR             40-49   \n",
       "3                2020-12-27          Pfizer/BioNTech  ABR             50-59   \n",
       "4                2020-12-27          Pfizer/BioNTech  ABR             60-69   \n",
       "...                     ...                      ...  ...               ...   \n",
       "55790            2021-05-22  Vaxzevria (AstraZeneca)  VEN             40-49   \n",
       "55791            2021-05-22  Vaxzevria (AstraZeneca)  VEN             50-59   \n",
       "55792            2021-05-22  Vaxzevria (AstraZeneca)  VEN             60-69   \n",
       "55793            2021-05-22  Vaxzevria (AstraZeneca)  VEN             70-79   \n",
       "55794            2021-05-22  Vaxzevria (AstraZeneca)  VEN             80-89   \n",
       "\n",
       "       sesso_maschile  sesso_femminile  \\\n",
       "0                   1                0   \n",
       "1                   1                3   \n",
       "2                   1                6   \n",
       "3                   4                5   \n",
       "4                  10                4   \n",
       "...               ...              ...   \n",
       "55790              42              257   \n",
       "55791              73              324   \n",
       "55792              87              146   \n",
       "55793              36               21   \n",
       "55794               2                0   \n",
       "\n",
       "       categoria_operatori_sanitari_sociosanitari  \\\n",
       "0                                               1   \n",
       "1                                               4   \n",
       "2                                               7   \n",
       "3                                               9   \n",
       "4                                              13   \n",
       "...                                           ...   \n",
       "55790                                           1   \n",
       "55791                                           0   \n",
       "55792                                           2   \n",
       "55793                                           2   \n",
       "55794                                           0   \n",
       "\n",
       "       categoria_personale_non_sanitario  categoria_ospiti_rsa  \\\n",
       "0                                      0                     0   \n",
       "1                                      0                     0   \n",
       "2                                      0                     0   \n",
       "3                                      0                     0   \n",
       "4                                      1                     0   \n",
       "...                                  ...                   ...   \n",
       "55790                                 14                     0   \n",
       "55791                                 23                     0   \n",
       "55792                                 14                     0   \n",
       "55793                                 10                     0   \n",
       "55794                                  0                     0   \n",
       "\n",
       "       categoria_60_69  ...  categoria_forze_armate  \\\n",
       "0                    0  ...                       0   \n",
       "1                    0  ...                       0   \n",
       "2                    0  ...                       0   \n",
       "3                    0  ...                       0   \n",
       "4                    0  ...                       0   \n",
       "...                ...  ...                     ...   \n",
       "55790                0  ...                       0   \n",
       "55791                0  ...                       0   \n",
       "55792               86  ...                       0   \n",
       "55793                0  ...                       0   \n",
       "55794                0  ...                       0   \n",
       "\n",
       "       categoria_personale_scolastico  categoria_soggetti_fragili  \\\n",
       "0                                   0                           0   \n",
       "1                                   0                           0   \n",
       "2                                   0                           0   \n",
       "3                                   0                           0   \n",
       "4                                   0                           0   \n",
       "...                               ...                         ...   \n",
       "55790                             266                           0   \n",
       "55791                             355                           0   \n",
       "55792                             124                           0   \n",
       "55793                               1                           0   \n",
       "55794                               0                           0   \n",
       "\n",
       "       categoria_altro  prima_dose  seconda_dose  codice_NUTS1  codice_NUTS2  \\\n",
       "0                    0           1             0           ITF          ITF1   \n",
       "1                    0           4             0           ITF          ITF1   \n",
       "2                    0           7             0           ITF          ITF1   \n",
       "3                    0           9             0           ITF          ITF1   \n",
       "4                    0          14             0           ITF          ITF1   \n",
       "...                ...         ...           ...           ...           ...   \n",
       "55790               18           1           298           ITH          ITH3   \n",
       "55791               19           5           392           ITH          ITH3   \n",
       "55792                7          84           149           ITH          ITH3   \n",
       "55793                0          36            21           ITH          ITH3   \n",
       "55794                0           2             0           ITH          ITH3   \n",
       "\n",
       "      codice_regione_ISTAT nome_area  \n",
       "0                       13   Abruzzo  \n",
       "1                       13   Abruzzo  \n",
       "2                       13   Abruzzo  \n",
       "3                       13   Abruzzo  \n",
       "4                       13   Abruzzo  \n",
       "...                    ...       ...  \n",
       "55790                    5    Veneto  \n",
       "55791                    5    Veneto  \n",
       "55792                    5    Veneto  \n",
       "55793                    5    Veneto  \n",
       "55794                    5    Veneto  \n",
       "\n",
       "[55795 rows x 22 columns]"
      ],
      "text/html": "<div>\n<style scoped>\n    .dataframe tbody tr th:only-of-type {\n        vertical-align: middle;\n    }\n\n    .dataframe tbody tr th {\n        vertical-align: top;\n    }\n\n    .dataframe thead th {\n        text-align: right;\n    }\n</style>\n<table border=\"1\" class=\"dataframe\">\n  <thead>\n    <tr style=\"text-align: right;\">\n      <th></th>\n      <th>data_somministrazione</th>\n      <th>fornitore</th>\n      <th>area</th>\n      <th>fascia_anagrafica</th>\n      <th>sesso_maschile</th>\n      <th>sesso_femminile</th>\n      <th>categoria_operatori_sanitari_sociosanitari</th>\n      <th>categoria_personale_non_sanitario</th>\n      <th>categoria_ospiti_rsa</th>\n      <th>categoria_60_69</th>\n      <th>...</th>\n      <th>categoria_forze_armate</th>\n      <th>categoria_personale_scolastico</th>\n      <th>categoria_soggetti_fragili</th>\n      <th>categoria_altro</th>\n      <th>prima_dose</th>\n      <th>seconda_dose</th>\n      <th>codice_NUTS1</th>\n      <th>codice_NUTS2</th>\n      <th>codice_regione_ISTAT</th>\n      <th>nome_area</th>\n    </tr>\n  </thead>\n  <tbody>\n    <tr>\n      <th>0</th>\n      <td>2020-12-27</td>\n      <td>Pfizer/BioNTech</td>\n      <td>ABR</td>\n      <td>20-29</td>\n      <td>1</td>\n      <td>0</td>\n      <td>1</td>\n      <td>0</td>\n      <td>0</td>\n      <td>0</td>\n      <td>...</td>\n      <td>0</td>\n      <td>0</td>\n      <td>0</td>\n      <td>0</td>\n      <td>1</td>\n      <td>0</td>\n      <td>ITF</td>\n      <td>ITF1</td>\n      <td>13</td>\n      <td>Abruzzo</td>\n    </tr>\n    <tr>\n      <th>1</th>\n      <td>2020-12-27</td>\n      <td>Pfizer/BioNTech</td>\n      <td>ABR</td>\n      <td>30-39</td>\n      <td>1</td>\n      <td>3</td>\n      <td>4</td>\n      <td>0</td>\n      <td>0</td>\n      <td>0</td>\n      <td>...</td>\n      <td>0</td>\n      <td>0</td>\n      <td>0</td>\n      <td>0</td>\n      <td>4</td>\n      <td>0</td>\n      <td>ITF</td>\n      <td>ITF1</td>\n      <td>13</td>\n      <td>Abruzzo</td>\n    </tr>\n    <tr>\n      <th>2</th>\n      <td>2020-12-27</td>\n      <td>Pfizer/BioNTech</td>\n      <td>ABR</td>\n      <td>40-49</td>\n      <td>1</td>\n      <td>6</td>\n      <td>7</td>\n      <td>0</td>\n      <td>0</td>\n      <td>0</td>\n      <td>...</td>\n      <td>0</td>\n      <td>0</td>\n      <td>0</td>\n      <td>0</td>\n      <td>7</td>\n      <td>0</td>\n      <td>ITF</td>\n      <td>ITF1</td>\n      <td>13</td>\n      <td>Abruzzo</td>\n    </tr>\n    <tr>\n      <th>3</th>\n      <td>2020-12-27</td>\n      <td>Pfizer/BioNTech</td>\n      <td>ABR</td>\n      <td>50-59</td>\n      <td>4</td>\n      <td>5</td>\n      <td>9</td>\n      <td>0</td>\n      <td>0</td>\n      <td>0</td>\n      <td>...</td>\n      <td>0</td>\n      <td>0</td>\n      <td>0</td>\n      <td>0</td>\n      <td>9</td>\n      <td>0</td>\n      <td>ITF</td>\n      <td>ITF1</td>\n      <td>13</td>\n      <td>Abruzzo</td>\n    </tr>\n    <tr>\n      <th>4</th>\n      <td>2020-12-27</td>\n      <td>Pfizer/BioNTech</td>\n      <td>ABR</td>\n      <td>60-69</td>\n      <td>10</td>\n      <td>4</td>\n      <td>13</td>\n      <td>1</td>\n      <td>0</td>\n      <td>0</td>\n      <td>...</td>\n      <td>0</td>\n      <td>0</td>\n      <td>0</td>\n      <td>0</td>\n      <td>14</td>\n      <td>0</td>\n      <td>ITF</td>\n      <td>ITF1</td>\n      <td>13</td>\n      <td>Abruzzo</td>\n    </tr>\n    <tr>\n      <th>...</th>\n      <td>...</td>\n      <td>...</td>\n      <td>...</td>\n      <td>...</td>\n      <td>...</td>\n      <td>...</td>\n      <td>...</td>\n      <td>...</td>\n      <td>...</td>\n      <td>...</td>\n      <td>...</td>\n      <td>...</td>\n      <td>...</td>\n      <td>...</td>\n      <td>...</td>\n      <td>...</td>\n      <td>...</td>\n      <td>...</td>\n      <td>...</td>\n      <td>...</td>\n      <td>...</td>\n    </tr>\n    <tr>\n      <th>55790</th>\n      <td>2021-05-22</td>\n      <td>Vaxzevria (AstraZeneca)</td>\n      <td>VEN</td>\n      <td>40-49</td>\n      <td>42</td>\n      <td>257</td>\n      <td>1</td>\n      <td>14</td>\n      <td>0</td>\n      <td>0</td>\n      <td>...</td>\n      <td>0</td>\n      <td>266</td>\n      <td>0</td>\n      <td>18</td>\n      <td>1</td>\n      <td>298</td>\n      <td>ITH</td>\n      <td>ITH3</td>\n      <td>5</td>\n      <td>Veneto</td>\n    </tr>\n    <tr>\n      <th>55791</th>\n      <td>2021-05-22</td>\n      <td>Vaxzevria (AstraZeneca)</td>\n      <td>VEN</td>\n      <td>50-59</td>\n      <td>73</td>\n      <td>324</td>\n      <td>0</td>\n      <td>23</td>\n      <td>0</td>\n      <td>0</td>\n      <td>...</td>\n      <td>0</td>\n      <td>355</td>\n      <td>0</td>\n      <td>19</td>\n      <td>5</td>\n      <td>392</td>\n      <td>ITH</td>\n      <td>ITH3</td>\n      <td>5</td>\n      <td>Veneto</td>\n    </tr>\n    <tr>\n      <th>55792</th>\n      <td>2021-05-22</td>\n      <td>Vaxzevria (AstraZeneca)</td>\n      <td>VEN</td>\n      <td>60-69</td>\n      <td>87</td>\n      <td>146</td>\n      <td>2</td>\n      <td>14</td>\n      <td>0</td>\n      <td>86</td>\n      <td>...</td>\n      <td>0</td>\n      <td>124</td>\n      <td>0</td>\n      <td>7</td>\n      <td>84</td>\n      <td>149</td>\n      <td>ITH</td>\n      <td>ITH3</td>\n      <td>5</td>\n      <td>Veneto</td>\n    </tr>\n    <tr>\n      <th>55793</th>\n      <td>2021-05-22</td>\n      <td>Vaxzevria (AstraZeneca)</td>\n      <td>VEN</td>\n      <td>70-79</td>\n      <td>36</td>\n      <td>21</td>\n      <td>2</td>\n      <td>10</td>\n      <td>0</td>\n      <td>0</td>\n      <td>...</td>\n      <td>0</td>\n      <td>1</td>\n      <td>0</td>\n      <td>0</td>\n      <td>36</td>\n      <td>21</td>\n      <td>ITH</td>\n      <td>ITH3</td>\n      <td>5</td>\n      <td>Veneto</td>\n    </tr>\n    <tr>\n      <th>55794</th>\n      <td>2021-05-22</td>\n      <td>Vaxzevria (AstraZeneca)</td>\n      <td>VEN</td>\n      <td>80-89</td>\n      <td>2</td>\n      <td>0</td>\n      <td>0</td>\n      <td>0</td>\n      <td>0</td>\n      <td>0</td>\n      <td>...</td>\n      <td>0</td>\n      <td>0</td>\n      <td>0</td>\n      <td>0</td>\n      <td>2</td>\n      <td>0</td>\n      <td>ITH</td>\n      <td>ITH3</td>\n      <td>5</td>\n      <td>Veneto</td>\n    </tr>\n  </tbody>\n</table>\n<p>55795 rows × 22 columns</p>\n</div>"
     },
     "metadata": {},
     "execution_count": 18
    }
   ],
   "source": [
    "somm_vacc = pd.read_csv(\"https://raw.githubusercontent.com/italia/covid19-opendata-vaccini/master/dati/somministrazioni-vaccini-latest.csv\")\n",
    "somm_vacc"
   ]
  },
  {
   "cell_type": "code",
   "execution_count": 19,
   "metadata": {},
   "outputs": [
    {
     "output_type": "execute_result",
     "data": {
      "text/plain": [
       "                 fornitore       tot\n",
       "0                  Janssen    370710\n",
       "1                  Moderna   2556865\n",
       "2          Pfizer/BioNTech  21177574\n",
       "3  Vaxzevria (AstraZeneca)   6385475"
      ],
      "text/html": "<div>\n<style scoped>\n    .dataframe tbody tr th:only-of-type {\n        vertical-align: middle;\n    }\n\n    .dataframe tbody tr th {\n        vertical-align: top;\n    }\n\n    .dataframe thead th {\n        text-align: right;\n    }\n</style>\n<table border=\"1\" class=\"dataframe\">\n  <thead>\n    <tr style=\"text-align: right;\">\n      <th></th>\n      <th>fornitore</th>\n      <th>tot</th>\n    </tr>\n  </thead>\n  <tbody>\n    <tr>\n      <th>0</th>\n      <td>Janssen</td>\n      <td>370710</td>\n    </tr>\n    <tr>\n      <th>1</th>\n      <td>Moderna</td>\n      <td>2556865</td>\n    </tr>\n    <tr>\n      <th>2</th>\n      <td>Pfizer/BioNTech</td>\n      <td>21177574</td>\n    </tr>\n    <tr>\n      <th>3</th>\n      <td>Vaxzevria (AstraZeneca)</td>\n      <td>6385475</td>\n    </tr>\n  </tbody>\n</table>\n</div>"
     },
     "metadata": {},
     "execution_count": 19
    }
   ],
   "source": [
    "\n",
    "df_somm_vacc = somm_vacc.groupby('fornitore').sum()[['sesso_maschile','sesso_femminile']].reset_index()\n",
    "df_somm_vacc['tot'] = (df_somm_vacc['sesso_maschile'] + df_somm_vacc['sesso_femminile'])\n",
    "df_somm_vacc[['fornitore','tot']]"
   ]
  },
  {
   "cell_type": "code",
   "execution_count": 20,
   "metadata": {},
   "outputs": [
    {
     "output_type": "execute_result",
     "data": {
      "text/plain": [
       "   area  sesso_maschile  sesso_femminile\n",
       "0   ABR          306866           381458\n",
       "1   BAS          135464           158995\n",
       "2   CAL          433590           467737\n",
       "3   CAM         1326609          1522483\n",
       "4   EMR         1011897          1334842\n",
       "5   FVG          274891           359658\n",
       "6   LAZ         1305266          1632123\n",
       "7   LIG          373333           481109\n",
       "8   LOM         2267594          2997587\n",
       "9   MAR          350255           450627\n",
       "10  MOL           76257            92738\n",
       "11  PAB          127540           151791\n",
       "12  PAT          116079           149732\n",
       "13  PIE          962444          1283035\n",
       "14  PUG          917314          1150548\n",
       "15  SAR          347841           434238\n",
       "16  SIC         1043345          1166475\n",
       "17  TOS          794960          1066413\n",
       "18  UMB          194664           261274\n",
       "19  VDA           29703            35218\n",
       "20  VEN         1093531          1423100"
      ],
      "text/html": "<div>\n<style scoped>\n    .dataframe tbody tr th:only-of-type {\n        vertical-align: middle;\n    }\n\n    .dataframe tbody tr th {\n        vertical-align: top;\n    }\n\n    .dataframe thead th {\n        text-align: right;\n    }\n</style>\n<table border=\"1\" class=\"dataframe\">\n  <thead>\n    <tr style=\"text-align: right;\">\n      <th></th>\n      <th>area</th>\n      <th>sesso_maschile</th>\n      <th>sesso_femminile</th>\n    </tr>\n  </thead>\n  <tbody>\n    <tr>\n      <th>0</th>\n      <td>ABR</td>\n      <td>306866</td>\n      <td>381458</td>\n    </tr>\n    <tr>\n      <th>1</th>\n      <td>BAS</td>\n      <td>135464</td>\n      <td>158995</td>\n    </tr>\n    <tr>\n      <th>2</th>\n      <td>CAL</td>\n      <td>433590</td>\n      <td>467737</td>\n    </tr>\n    <tr>\n      <th>3</th>\n      <td>CAM</td>\n      <td>1326609</td>\n      <td>1522483</td>\n    </tr>\n    <tr>\n      <th>4</th>\n      <td>EMR</td>\n      <td>1011897</td>\n      <td>1334842</td>\n    </tr>\n    <tr>\n      <th>5</th>\n      <td>FVG</td>\n      <td>274891</td>\n      <td>359658</td>\n    </tr>\n    <tr>\n      <th>6</th>\n      <td>LAZ</td>\n      <td>1305266</td>\n      <td>1632123</td>\n    </tr>\n    <tr>\n      <th>7</th>\n      <td>LIG</td>\n      <td>373333</td>\n      <td>481109</td>\n    </tr>\n    <tr>\n      <th>8</th>\n      <td>LOM</td>\n      <td>2267594</td>\n      <td>2997587</td>\n    </tr>\n    <tr>\n      <th>9</th>\n      <td>MAR</td>\n      <td>350255</td>\n      <td>450627</td>\n    </tr>\n    <tr>\n      <th>10</th>\n      <td>MOL</td>\n      <td>76257</td>\n      <td>92738</td>\n    </tr>\n    <tr>\n      <th>11</th>\n      <td>PAB</td>\n      <td>127540</td>\n      <td>151791</td>\n    </tr>\n    <tr>\n      <th>12</th>\n      <td>PAT</td>\n      <td>116079</td>\n      <td>149732</td>\n    </tr>\n    <tr>\n      <th>13</th>\n      <td>PIE</td>\n      <td>962444</td>\n      <td>1283035</td>\n    </tr>\n    <tr>\n      <th>14</th>\n      <td>PUG</td>\n      <td>917314</td>\n      <td>1150548</td>\n    </tr>\n    <tr>\n      <th>15</th>\n      <td>SAR</td>\n      <td>347841</td>\n      <td>434238</td>\n    </tr>\n    <tr>\n      <th>16</th>\n      <td>SIC</td>\n      <td>1043345</td>\n      <td>1166475</td>\n    </tr>\n    <tr>\n      <th>17</th>\n      <td>TOS</td>\n      <td>794960</td>\n      <td>1066413</td>\n    </tr>\n    <tr>\n      <th>18</th>\n      <td>UMB</td>\n      <td>194664</td>\n      <td>261274</td>\n    </tr>\n    <tr>\n      <th>19</th>\n      <td>VDA</td>\n      <td>29703</td>\n      <td>35218</td>\n    </tr>\n    <tr>\n      <th>20</th>\n      <td>VEN</td>\n      <td>1093531</td>\n      <td>1423100</td>\n    </tr>\n  </tbody>\n</table>\n</div>"
     },
     "metadata": {},
     "execution_count": 20
    }
   ],
   "source": [
    "df = somm_vacc.groupby(\"area\").sum()[['sesso_maschile','sesso_femminile']].reset_index()\n",
    "df"
   ]
  },
  {
   "cell_type": "code",
   "execution_count": 21,
   "metadata": {},
   "outputs": [
    {
     "output_type": "execute_result",
     "data": {
      "text/plain": [
       "30490624"
      ]
     },
     "metadata": {},
     "execution_count": 21
    }
   ],
   "source": [
    "somma_vaccinati = somm_vacc['sesso_maschile'].sum() + somm_vacc['sesso_femminile'].sum()\n",
    "somma_vaccinati"
   ]
  },
  {
   "cell_type": "code",
   "execution_count": 22,
   "metadata": {},
   "outputs": [
    {
     "output_type": "execute_result",
     "data": {
      "text/plain": [
       "     area                fornitore  numero_dosi data_consegna codice_NUTS1  \\\n",
       "0     ABR          Pfizer/BioNTech          135    2020-12-27          ITF   \n",
       "1     ABR          Pfizer/BioNTech         7800    2020-12-30          ITF   \n",
       "2     ABR          Pfizer/BioNTech         3900    2021-01-05          ITF   \n",
       "3     ABR          Pfizer/BioNTech         3900    2021-01-07          ITF   \n",
       "4     ABR          Pfizer/BioNTech         3900    2021-01-11          ITF   \n",
       "...   ...                      ...          ...           ...          ...   \n",
       "1243  VEN                  Janssen        12900    2021-05-14          ITH   \n",
       "1244  VEN  Vaxzevria (AstraZeneca)        33600    2021-05-14          ITH   \n",
       "1245  VEN          Pfizer/BioNTech       169650    2021-05-19          ITH   \n",
       "1246  VEN                  Janssen        17050    2021-05-21          ITH   \n",
       "1247  VEN                  Moderna        29300    2021-05-21          ITH   \n",
       "\n",
       "     codice_NUTS2  codice_regione_ISTAT nome_area  \n",
       "0            ITF1                    13   Abruzzo  \n",
       "1            ITF1                    13   Abruzzo  \n",
       "2            ITF1                    13   Abruzzo  \n",
       "3            ITF1                    13   Abruzzo  \n",
       "4            ITF1                    13   Abruzzo  \n",
       "...           ...                   ...       ...  \n",
       "1243         ITH3                     5    Veneto  \n",
       "1244         ITH3                     5    Veneto  \n",
       "1245         ITH3                     5    Veneto  \n",
       "1246         ITH3                     5    Veneto  \n",
       "1247         ITH3                     5    Veneto  \n",
       "\n",
       "[1248 rows x 8 columns]"
      ],
      "text/html": "<div>\n<style scoped>\n    .dataframe tbody tr th:only-of-type {\n        vertical-align: middle;\n    }\n\n    .dataframe tbody tr th {\n        vertical-align: top;\n    }\n\n    .dataframe thead th {\n        text-align: right;\n    }\n</style>\n<table border=\"1\" class=\"dataframe\">\n  <thead>\n    <tr style=\"text-align: right;\">\n      <th></th>\n      <th>area</th>\n      <th>fornitore</th>\n      <th>numero_dosi</th>\n      <th>data_consegna</th>\n      <th>codice_NUTS1</th>\n      <th>codice_NUTS2</th>\n      <th>codice_regione_ISTAT</th>\n      <th>nome_area</th>\n    </tr>\n  </thead>\n  <tbody>\n    <tr>\n      <th>0</th>\n      <td>ABR</td>\n      <td>Pfizer/BioNTech</td>\n      <td>135</td>\n      <td>2020-12-27</td>\n      <td>ITF</td>\n      <td>ITF1</td>\n      <td>13</td>\n      <td>Abruzzo</td>\n    </tr>\n    <tr>\n      <th>1</th>\n      <td>ABR</td>\n      <td>Pfizer/BioNTech</td>\n      <td>7800</td>\n      <td>2020-12-30</td>\n      <td>ITF</td>\n      <td>ITF1</td>\n      <td>13</td>\n      <td>Abruzzo</td>\n    </tr>\n    <tr>\n      <th>2</th>\n      <td>ABR</td>\n      <td>Pfizer/BioNTech</td>\n      <td>3900</td>\n      <td>2021-01-05</td>\n      <td>ITF</td>\n      <td>ITF1</td>\n      <td>13</td>\n      <td>Abruzzo</td>\n    </tr>\n    <tr>\n      <th>3</th>\n      <td>ABR</td>\n      <td>Pfizer/BioNTech</td>\n      <td>3900</td>\n      <td>2021-01-07</td>\n      <td>ITF</td>\n      <td>ITF1</td>\n      <td>13</td>\n      <td>Abruzzo</td>\n    </tr>\n    <tr>\n      <th>4</th>\n      <td>ABR</td>\n      <td>Pfizer/BioNTech</td>\n      <td>3900</td>\n      <td>2021-01-11</td>\n      <td>ITF</td>\n      <td>ITF1</td>\n      <td>13</td>\n      <td>Abruzzo</td>\n    </tr>\n    <tr>\n      <th>...</th>\n      <td>...</td>\n      <td>...</td>\n      <td>...</td>\n      <td>...</td>\n      <td>...</td>\n      <td>...</td>\n      <td>...</td>\n      <td>...</td>\n    </tr>\n    <tr>\n      <th>1243</th>\n      <td>VEN</td>\n      <td>Janssen</td>\n      <td>12900</td>\n      <td>2021-05-14</td>\n      <td>ITH</td>\n      <td>ITH3</td>\n      <td>5</td>\n      <td>Veneto</td>\n    </tr>\n    <tr>\n      <th>1244</th>\n      <td>VEN</td>\n      <td>Vaxzevria (AstraZeneca)</td>\n      <td>33600</td>\n      <td>2021-05-14</td>\n      <td>ITH</td>\n      <td>ITH3</td>\n      <td>5</td>\n      <td>Veneto</td>\n    </tr>\n    <tr>\n      <th>1245</th>\n      <td>VEN</td>\n      <td>Pfizer/BioNTech</td>\n      <td>169650</td>\n      <td>2021-05-19</td>\n      <td>ITH</td>\n      <td>ITH3</td>\n      <td>5</td>\n      <td>Veneto</td>\n    </tr>\n    <tr>\n      <th>1246</th>\n      <td>VEN</td>\n      <td>Janssen</td>\n      <td>17050</td>\n      <td>2021-05-21</td>\n      <td>ITH</td>\n      <td>ITH3</td>\n      <td>5</td>\n      <td>Veneto</td>\n    </tr>\n    <tr>\n      <th>1247</th>\n      <td>VEN</td>\n      <td>Moderna</td>\n      <td>29300</td>\n      <td>2021-05-21</td>\n      <td>ITH</td>\n      <td>ITH3</td>\n      <td>5</td>\n      <td>Veneto</td>\n    </tr>\n  </tbody>\n</table>\n<p>1248 rows × 8 columns</p>\n</div>"
     },
     "metadata": {},
     "execution_count": 22
    }
   ],
   "source": [
    "consegne = pd.read_csv(\"https://raw.githubusercontent.com/italia/covid19-opendata-vaccini/master/dati/consegne-vaccini-latest.csv\")\n",
    "consegne"
   ]
  },
  {
   "cell_type": "code",
   "execution_count": 23,
   "metadata": {},
   "outputs": [
    {
     "output_type": "execute_result",
     "data": {
      "text/plain": [
       "   data_consegna  numero_dosi\n",
       "0     2020-12-27         9750\n",
       "1     2020-12-30       313950\n",
       "2     2020-12-31       156000\n",
       "3     2021-01-04        10725\n",
       "4     2021-01-05       192075\n",
       "..           ...          ...\n",
       "87    2021-05-17        13700\n",
       "88    2021-05-18         8670\n",
       "89    2021-05-19      2127977\n",
       "90    2021-05-20        45480\n",
       "91    2021-05-21       661550\n",
       "\n",
       "[92 rows x 2 columns]"
      ],
      "text/html": "<div>\n<style scoped>\n    .dataframe tbody tr th:only-of-type {\n        vertical-align: middle;\n    }\n\n    .dataframe tbody tr th {\n        vertical-align: top;\n    }\n\n    .dataframe thead th {\n        text-align: right;\n    }\n</style>\n<table border=\"1\" class=\"dataframe\">\n  <thead>\n    <tr style=\"text-align: right;\">\n      <th></th>\n      <th>data_consegna</th>\n      <th>numero_dosi</th>\n    </tr>\n  </thead>\n  <tbody>\n    <tr>\n      <th>0</th>\n      <td>2020-12-27</td>\n      <td>9750</td>\n    </tr>\n    <tr>\n      <th>1</th>\n      <td>2020-12-30</td>\n      <td>313950</td>\n    </tr>\n    <tr>\n      <th>2</th>\n      <td>2020-12-31</td>\n      <td>156000</td>\n    </tr>\n    <tr>\n      <th>3</th>\n      <td>2021-01-04</td>\n      <td>10725</td>\n    </tr>\n    <tr>\n      <th>4</th>\n      <td>2021-01-05</td>\n      <td>192075</td>\n    </tr>\n    <tr>\n      <th>...</th>\n      <td>...</td>\n      <td>...</td>\n    </tr>\n    <tr>\n      <th>87</th>\n      <td>2021-05-17</td>\n      <td>13700</td>\n    </tr>\n    <tr>\n      <th>88</th>\n      <td>2021-05-18</td>\n      <td>8670</td>\n    </tr>\n    <tr>\n      <th>89</th>\n      <td>2021-05-19</td>\n      <td>2127977</td>\n    </tr>\n    <tr>\n      <th>90</th>\n      <td>2021-05-20</td>\n      <td>45480</td>\n    </tr>\n    <tr>\n      <th>91</th>\n      <td>2021-05-21</td>\n      <td>661550</td>\n    </tr>\n  </tbody>\n</table>\n<p>92 rows × 2 columns</p>\n</div>"
     },
     "metadata": {},
     "execution_count": 23
    }
   ],
   "source": [
    "consegne = consegne.groupby(\"data_consegna\").sum()['numero_dosi'].reset_index()\n",
    "consegne"
   ]
  },
  {
   "cell_type": "code",
   "execution_count": 24,
   "metadata": {},
   "outputs": [
    {
     "output_type": "execute_result",
     "data": {
      "text/plain": [
       "   area  dosi_somministrate  dosi_consegnate  percentuale_somministrazione  \\\n",
       "0   ABR              688324           746770                          92.2   \n",
       "1   BAS              294459           319725                          92.1   \n",
       "2   CAL              901327          1002850                          89.9   \n",
       "3   CAM             2849092          3061485                          93.1   \n",
       "4   EMR             2346739          2514850                          93.3   \n",
       "5   FVG              634549           722155                          87.9   \n",
       "6   LAZ             2937389          3270920                          89.8   \n",
       "7   LIG              854442           906970                          94.2   \n",
       "8   LOM             5265181          5560650                          94.7   \n",
       "9   MAR              800882           842210                          95.1   \n",
       "10  MOL              168995           179805                          94.0   \n",
       "11  PAB              279331           313445                          89.1   \n",
       "12  PAT              265811           289670                          91.8   \n",
       "13  PIE             2245479          2444360                          91.9   \n",
       "14  PUG             2067862          2180555                          94.8   \n",
       "15  SAR              782079           918870                          85.1   \n",
       "16  SIC             2209820          2456502                          90.0   \n",
       "17  TOS             1861373          2025810                          91.9   \n",
       "18  UMB              455938           489365                          93.2   \n",
       "19  VDA               64921            72640                          89.4   \n",
       "20  VEN             2516631          2655860                          94.8   \n",
       "\n",
       "   ultimo_aggiornamento codice_NUTS1 codice_NUTS2  codice_regione_ISTAT  \\\n",
       "0            2021-05-23          ITF         ITF1                    13   \n",
       "1            2021-05-23          ITF         ITF5                    17   \n",
       "2            2021-05-23          ITF         ITF6                    18   \n",
       "3            2021-05-23          ITF         ITF3                    15   \n",
       "4            2021-05-23          ITH         ITH5                     8   \n",
       "5            2021-05-23          ITH         ITH4                     6   \n",
       "6            2021-05-23          ITI         ITI4                    12   \n",
       "7            2021-05-23          ITC         ITC3                     7   \n",
       "8            2021-05-23          ITC         ITC4                     3   \n",
       "9            2021-05-23          ITI         ITI3                    11   \n",
       "10           2021-05-23          ITF         ITF2                    14   \n",
       "11           2021-05-23          ITH         ITH1                     4   \n",
       "12           2021-05-23          ITH         ITH2                     4   \n",
       "13           2021-05-23          ITC         ITC1                     1   \n",
       "14           2021-05-23          ITF         ITF4                    16   \n",
       "15           2021-05-23          ITG         ITG2                    20   \n",
       "16           2021-05-23          ITG         ITG1                    19   \n",
       "17           2021-05-23          ITI         ITI1                     9   \n",
       "18           2021-05-23          ITI         ITI2                    10   \n",
       "19           2021-05-23          ITC         ITC2                     2   \n",
       "20           2021-05-23          ITH         ITH3                     5   \n",
       "\n",
       "                             nome_area  \n",
       "0                              Abruzzo  \n",
       "1                           Basilicata  \n",
       "2                             Calabria  \n",
       "3                             Campania  \n",
       "4                       Emilia-Romagna  \n",
       "5                Friuli-Venezia Giulia  \n",
       "6                                Lazio  \n",
       "7                              Liguria  \n",
       "8                            Lombardia  \n",
       "9                               Marche  \n",
       "10                              Molise  \n",
       "11  Provincia Autonoma Bolzano / Bozen  \n",
       "12           Provincia Autonoma Trento  \n",
       "13                            Piemonte  \n",
       "14                              Puglia  \n",
       "15                            Sardegna  \n",
       "16                             Sicilia  \n",
       "17                             Toscana  \n",
       "18                              Umbria  \n",
       "19      Valle d'Aosta / Vallée d'Aoste  \n",
       "20                              Veneto  "
      ],
      "text/html": "<div>\n<style scoped>\n    .dataframe tbody tr th:only-of-type {\n        vertical-align: middle;\n    }\n\n    .dataframe tbody tr th {\n        vertical-align: top;\n    }\n\n    .dataframe thead th {\n        text-align: right;\n    }\n</style>\n<table border=\"1\" class=\"dataframe\">\n  <thead>\n    <tr style=\"text-align: right;\">\n      <th></th>\n      <th>area</th>\n      <th>dosi_somministrate</th>\n      <th>dosi_consegnate</th>\n      <th>percentuale_somministrazione</th>\n      <th>ultimo_aggiornamento</th>\n      <th>codice_NUTS1</th>\n      <th>codice_NUTS2</th>\n      <th>codice_regione_ISTAT</th>\n      <th>nome_area</th>\n    </tr>\n  </thead>\n  <tbody>\n    <tr>\n      <th>0</th>\n      <td>ABR</td>\n      <td>688324</td>\n      <td>746770</td>\n      <td>92.2</td>\n      <td>2021-05-23</td>\n      <td>ITF</td>\n      <td>ITF1</td>\n      <td>13</td>\n      <td>Abruzzo</td>\n    </tr>\n    <tr>\n      <th>1</th>\n      <td>BAS</td>\n      <td>294459</td>\n      <td>319725</td>\n      <td>92.1</td>\n      <td>2021-05-23</td>\n      <td>ITF</td>\n      <td>ITF5</td>\n      <td>17</td>\n      <td>Basilicata</td>\n    </tr>\n    <tr>\n      <th>2</th>\n      <td>CAL</td>\n      <td>901327</td>\n      <td>1002850</td>\n      <td>89.9</td>\n      <td>2021-05-23</td>\n      <td>ITF</td>\n      <td>ITF6</td>\n      <td>18</td>\n      <td>Calabria</td>\n    </tr>\n    <tr>\n      <th>3</th>\n      <td>CAM</td>\n      <td>2849092</td>\n      <td>3061485</td>\n      <td>93.1</td>\n      <td>2021-05-23</td>\n      <td>ITF</td>\n      <td>ITF3</td>\n      <td>15</td>\n      <td>Campania</td>\n    </tr>\n    <tr>\n      <th>4</th>\n      <td>EMR</td>\n      <td>2346739</td>\n      <td>2514850</td>\n      <td>93.3</td>\n      <td>2021-05-23</td>\n      <td>ITH</td>\n      <td>ITH5</td>\n      <td>8</td>\n      <td>Emilia-Romagna</td>\n    </tr>\n    <tr>\n      <th>5</th>\n      <td>FVG</td>\n      <td>634549</td>\n      <td>722155</td>\n      <td>87.9</td>\n      <td>2021-05-23</td>\n      <td>ITH</td>\n      <td>ITH4</td>\n      <td>6</td>\n      <td>Friuli-Venezia Giulia</td>\n    </tr>\n    <tr>\n      <th>6</th>\n      <td>LAZ</td>\n      <td>2937389</td>\n      <td>3270920</td>\n      <td>89.8</td>\n      <td>2021-05-23</td>\n      <td>ITI</td>\n      <td>ITI4</td>\n      <td>12</td>\n      <td>Lazio</td>\n    </tr>\n    <tr>\n      <th>7</th>\n      <td>LIG</td>\n      <td>854442</td>\n      <td>906970</td>\n      <td>94.2</td>\n      <td>2021-05-23</td>\n      <td>ITC</td>\n      <td>ITC3</td>\n      <td>7</td>\n      <td>Liguria</td>\n    </tr>\n    <tr>\n      <th>8</th>\n      <td>LOM</td>\n      <td>5265181</td>\n      <td>5560650</td>\n      <td>94.7</td>\n      <td>2021-05-23</td>\n      <td>ITC</td>\n      <td>ITC4</td>\n      <td>3</td>\n      <td>Lombardia</td>\n    </tr>\n    <tr>\n      <th>9</th>\n      <td>MAR</td>\n      <td>800882</td>\n      <td>842210</td>\n      <td>95.1</td>\n      <td>2021-05-23</td>\n      <td>ITI</td>\n      <td>ITI3</td>\n      <td>11</td>\n      <td>Marche</td>\n    </tr>\n    <tr>\n      <th>10</th>\n      <td>MOL</td>\n      <td>168995</td>\n      <td>179805</td>\n      <td>94.0</td>\n      <td>2021-05-23</td>\n      <td>ITF</td>\n      <td>ITF2</td>\n      <td>14</td>\n      <td>Molise</td>\n    </tr>\n    <tr>\n      <th>11</th>\n      <td>PAB</td>\n      <td>279331</td>\n      <td>313445</td>\n      <td>89.1</td>\n      <td>2021-05-23</td>\n      <td>ITH</td>\n      <td>ITH1</td>\n      <td>4</td>\n      <td>Provincia Autonoma Bolzano / Bozen</td>\n    </tr>\n    <tr>\n      <th>12</th>\n      <td>PAT</td>\n      <td>265811</td>\n      <td>289670</td>\n      <td>91.8</td>\n      <td>2021-05-23</td>\n      <td>ITH</td>\n      <td>ITH2</td>\n      <td>4</td>\n      <td>Provincia Autonoma Trento</td>\n    </tr>\n    <tr>\n      <th>13</th>\n      <td>PIE</td>\n      <td>2245479</td>\n      <td>2444360</td>\n      <td>91.9</td>\n      <td>2021-05-23</td>\n      <td>ITC</td>\n      <td>ITC1</td>\n      <td>1</td>\n      <td>Piemonte</td>\n    </tr>\n    <tr>\n      <th>14</th>\n      <td>PUG</td>\n      <td>2067862</td>\n      <td>2180555</td>\n      <td>94.8</td>\n      <td>2021-05-23</td>\n      <td>ITF</td>\n      <td>ITF4</td>\n      <td>16</td>\n      <td>Puglia</td>\n    </tr>\n    <tr>\n      <th>15</th>\n      <td>SAR</td>\n      <td>782079</td>\n      <td>918870</td>\n      <td>85.1</td>\n      <td>2021-05-23</td>\n      <td>ITG</td>\n      <td>ITG2</td>\n      <td>20</td>\n      <td>Sardegna</td>\n    </tr>\n    <tr>\n      <th>16</th>\n      <td>SIC</td>\n      <td>2209820</td>\n      <td>2456502</td>\n      <td>90.0</td>\n      <td>2021-05-23</td>\n      <td>ITG</td>\n      <td>ITG1</td>\n      <td>19</td>\n      <td>Sicilia</td>\n    </tr>\n    <tr>\n      <th>17</th>\n      <td>TOS</td>\n      <td>1861373</td>\n      <td>2025810</td>\n      <td>91.9</td>\n      <td>2021-05-23</td>\n      <td>ITI</td>\n      <td>ITI1</td>\n      <td>9</td>\n      <td>Toscana</td>\n    </tr>\n    <tr>\n      <th>18</th>\n      <td>UMB</td>\n      <td>455938</td>\n      <td>489365</td>\n      <td>93.2</td>\n      <td>2021-05-23</td>\n      <td>ITI</td>\n      <td>ITI2</td>\n      <td>10</td>\n      <td>Umbria</td>\n    </tr>\n    <tr>\n      <th>19</th>\n      <td>VDA</td>\n      <td>64921</td>\n      <td>72640</td>\n      <td>89.4</td>\n      <td>2021-05-23</td>\n      <td>ITC</td>\n      <td>ITC2</td>\n      <td>2</td>\n      <td>Valle d'Aosta / Vallée d'Aoste</td>\n    </tr>\n    <tr>\n      <th>20</th>\n      <td>VEN</td>\n      <td>2516631</td>\n      <td>2655860</td>\n      <td>94.8</td>\n      <td>2021-05-23</td>\n      <td>ITH</td>\n      <td>ITH3</td>\n      <td>5</td>\n      <td>Veneto</td>\n    </tr>\n  </tbody>\n</table>\n</div>"
     },
     "metadata": {},
     "execution_count": 24
    }
   ],
   "source": [
    "dosi = pd.read_csv(\"https://raw.githubusercontent.com/italia/covid19-opendata-vaccini/master/dati/vaccini-summary-latest.csv\")\n",
    "dosi"
   ]
  },
  {
   "cell_type": "code",
   "execution_count": 25,
   "metadata": {},
   "outputs": [
    {
     "output_type": "execute_result",
     "data": {
      "text/plain": [
       "   area  dosi_somministrate  dosi_consegnate\n",
       "0   ABR              688324           746770\n",
       "1   BAS              294459           319725\n",
       "2   CAL              901327          1002850\n",
       "3   CAM             2849092          3061485\n",
       "4   EMR             2346739          2514850\n",
       "5   FVG              634549           722155\n",
       "6   LAZ             2937389          3270920\n",
       "7   LIG              854442           906970\n",
       "8   LOM             5265181          5560650\n",
       "9   MAR              800882           842210\n",
       "10  MOL              168995           179805\n",
       "11  PAB              279331           313445\n",
       "12  PAT              265811           289670\n",
       "13  PIE             2245479          2444360\n",
       "14  PUG             2067862          2180555\n",
       "15  SAR              782079           918870\n",
       "16  SIC             2209820          2456502\n",
       "17  TOS             1861373          2025810\n",
       "18  UMB              455938           489365\n",
       "19  VDA               64921            72640\n",
       "20  VEN             2516631          2655860"
      ],
      "text/html": "<div>\n<style scoped>\n    .dataframe tbody tr th:only-of-type {\n        vertical-align: middle;\n    }\n\n    .dataframe tbody tr th {\n        vertical-align: top;\n    }\n\n    .dataframe thead th {\n        text-align: right;\n    }\n</style>\n<table border=\"1\" class=\"dataframe\">\n  <thead>\n    <tr style=\"text-align: right;\">\n      <th></th>\n      <th>area</th>\n      <th>dosi_somministrate</th>\n      <th>dosi_consegnate</th>\n    </tr>\n  </thead>\n  <tbody>\n    <tr>\n      <th>0</th>\n      <td>ABR</td>\n      <td>688324</td>\n      <td>746770</td>\n    </tr>\n    <tr>\n      <th>1</th>\n      <td>BAS</td>\n      <td>294459</td>\n      <td>319725</td>\n    </tr>\n    <tr>\n      <th>2</th>\n      <td>CAL</td>\n      <td>901327</td>\n      <td>1002850</td>\n    </tr>\n    <tr>\n      <th>3</th>\n      <td>CAM</td>\n      <td>2849092</td>\n      <td>3061485</td>\n    </tr>\n    <tr>\n      <th>4</th>\n      <td>EMR</td>\n      <td>2346739</td>\n      <td>2514850</td>\n    </tr>\n    <tr>\n      <th>5</th>\n      <td>FVG</td>\n      <td>634549</td>\n      <td>722155</td>\n    </tr>\n    <tr>\n      <th>6</th>\n      <td>LAZ</td>\n      <td>2937389</td>\n      <td>3270920</td>\n    </tr>\n    <tr>\n      <th>7</th>\n      <td>LIG</td>\n      <td>854442</td>\n      <td>906970</td>\n    </tr>\n    <tr>\n      <th>8</th>\n      <td>LOM</td>\n      <td>5265181</td>\n      <td>5560650</td>\n    </tr>\n    <tr>\n      <th>9</th>\n      <td>MAR</td>\n      <td>800882</td>\n      <td>842210</td>\n    </tr>\n    <tr>\n      <th>10</th>\n      <td>MOL</td>\n      <td>168995</td>\n      <td>179805</td>\n    </tr>\n    <tr>\n      <th>11</th>\n      <td>PAB</td>\n      <td>279331</td>\n      <td>313445</td>\n    </tr>\n    <tr>\n      <th>12</th>\n      <td>PAT</td>\n      <td>265811</td>\n      <td>289670</td>\n    </tr>\n    <tr>\n      <th>13</th>\n      <td>PIE</td>\n      <td>2245479</td>\n      <td>2444360</td>\n    </tr>\n    <tr>\n      <th>14</th>\n      <td>PUG</td>\n      <td>2067862</td>\n      <td>2180555</td>\n    </tr>\n    <tr>\n      <th>15</th>\n      <td>SAR</td>\n      <td>782079</td>\n      <td>918870</td>\n    </tr>\n    <tr>\n      <th>16</th>\n      <td>SIC</td>\n      <td>2209820</td>\n      <td>2456502</td>\n    </tr>\n    <tr>\n      <th>17</th>\n      <td>TOS</td>\n      <td>1861373</td>\n      <td>2025810</td>\n    </tr>\n    <tr>\n      <th>18</th>\n      <td>UMB</td>\n      <td>455938</td>\n      <td>489365</td>\n    </tr>\n    <tr>\n      <th>19</th>\n      <td>VDA</td>\n      <td>64921</td>\n      <td>72640</td>\n    </tr>\n    <tr>\n      <th>20</th>\n      <td>VEN</td>\n      <td>2516631</td>\n      <td>2655860</td>\n    </tr>\n  </tbody>\n</table>\n</div>"
     },
     "metadata": {},
     "execution_count": 25
    }
   ],
   "source": [
    "dosi = dosi[['area','dosi_somministrate','dosi_consegnate']]\n",
    "dosi"
   ]
  },
  {
   "cell_type": "code",
   "execution_count": 26,
   "metadata": {},
   "outputs": [
    {
     "output_type": "stream",
     "name": "stderr",
     "text": [
      "<ipython-input-26-ab15ca755053>:1: SettingWithCopyWarning: \nA value is trying to be set on a copy of a slice from a DataFrame.\nTry using .loc[row_indexer,col_indexer] = value instead\n\nSee the caveats in the documentation: https://pandas.pydata.org/pandas-docs/stable/user_guide/indexing.html#returning-a-view-versus-a-copy\n  dosi['da_utilizzare'] = dosi['dosi_consegnate'] - dosi['dosi_somministrate']\n"
     ]
    },
    {
     "output_type": "execute_result",
     "data": {
      "text/plain": [
       "   area  dosi_somministrate  dosi_consegnate  da_utilizzare\n",
       "0   ABR              688324           746770          58446\n",
       "1   BAS              294459           319725          25266\n",
       "2   CAL              901327          1002850         101523\n",
       "3   CAM             2849092          3061485         212393\n",
       "4   EMR             2346739          2514850         168111\n",
       "5   FVG              634549           722155          87606\n",
       "6   LAZ             2937389          3270920         333531\n",
       "7   LIG              854442           906970          52528\n",
       "8   LOM             5265181          5560650         295469\n",
       "9   MAR              800882           842210          41328\n",
       "10  MOL              168995           179805          10810\n",
       "11  PAB              279331           313445          34114\n",
       "12  PAT              265811           289670          23859\n",
       "13  PIE             2245479          2444360         198881\n",
       "14  PUG             2067862          2180555         112693\n",
       "15  SAR              782079           918870         136791\n",
       "16  SIC             2209820          2456502         246682\n",
       "17  TOS             1861373          2025810         164437\n",
       "18  UMB              455938           489365          33427\n",
       "19  VDA               64921            72640           7719\n",
       "20  VEN             2516631          2655860         139229"
      ],
      "text/html": "<div>\n<style scoped>\n    .dataframe tbody tr th:only-of-type {\n        vertical-align: middle;\n    }\n\n    .dataframe tbody tr th {\n        vertical-align: top;\n    }\n\n    .dataframe thead th {\n        text-align: right;\n    }\n</style>\n<table border=\"1\" class=\"dataframe\">\n  <thead>\n    <tr style=\"text-align: right;\">\n      <th></th>\n      <th>area</th>\n      <th>dosi_somministrate</th>\n      <th>dosi_consegnate</th>\n      <th>da_utilizzare</th>\n    </tr>\n  </thead>\n  <tbody>\n    <tr>\n      <th>0</th>\n      <td>ABR</td>\n      <td>688324</td>\n      <td>746770</td>\n      <td>58446</td>\n    </tr>\n    <tr>\n      <th>1</th>\n      <td>BAS</td>\n      <td>294459</td>\n      <td>319725</td>\n      <td>25266</td>\n    </tr>\n    <tr>\n      <th>2</th>\n      <td>CAL</td>\n      <td>901327</td>\n      <td>1002850</td>\n      <td>101523</td>\n    </tr>\n    <tr>\n      <th>3</th>\n      <td>CAM</td>\n      <td>2849092</td>\n      <td>3061485</td>\n      <td>212393</td>\n    </tr>\n    <tr>\n      <th>4</th>\n      <td>EMR</td>\n      <td>2346739</td>\n      <td>2514850</td>\n      <td>168111</td>\n    </tr>\n    <tr>\n      <th>5</th>\n      <td>FVG</td>\n      <td>634549</td>\n      <td>722155</td>\n      <td>87606</td>\n    </tr>\n    <tr>\n      <th>6</th>\n      <td>LAZ</td>\n      <td>2937389</td>\n      <td>3270920</td>\n      <td>333531</td>\n    </tr>\n    <tr>\n      <th>7</th>\n      <td>LIG</td>\n      <td>854442</td>\n      <td>906970</td>\n      <td>52528</td>\n    </tr>\n    <tr>\n      <th>8</th>\n      <td>LOM</td>\n      <td>5265181</td>\n      <td>5560650</td>\n      <td>295469</td>\n    </tr>\n    <tr>\n      <th>9</th>\n      <td>MAR</td>\n      <td>800882</td>\n      <td>842210</td>\n      <td>41328</td>\n    </tr>\n    <tr>\n      <th>10</th>\n      <td>MOL</td>\n      <td>168995</td>\n      <td>179805</td>\n      <td>10810</td>\n    </tr>\n    <tr>\n      <th>11</th>\n      <td>PAB</td>\n      <td>279331</td>\n      <td>313445</td>\n      <td>34114</td>\n    </tr>\n    <tr>\n      <th>12</th>\n      <td>PAT</td>\n      <td>265811</td>\n      <td>289670</td>\n      <td>23859</td>\n    </tr>\n    <tr>\n      <th>13</th>\n      <td>PIE</td>\n      <td>2245479</td>\n      <td>2444360</td>\n      <td>198881</td>\n    </tr>\n    <tr>\n      <th>14</th>\n      <td>PUG</td>\n      <td>2067862</td>\n      <td>2180555</td>\n      <td>112693</td>\n    </tr>\n    <tr>\n      <th>15</th>\n      <td>SAR</td>\n      <td>782079</td>\n      <td>918870</td>\n      <td>136791</td>\n    </tr>\n    <tr>\n      <th>16</th>\n      <td>SIC</td>\n      <td>2209820</td>\n      <td>2456502</td>\n      <td>246682</td>\n    </tr>\n    <tr>\n      <th>17</th>\n      <td>TOS</td>\n      <td>1861373</td>\n      <td>2025810</td>\n      <td>164437</td>\n    </tr>\n    <tr>\n      <th>18</th>\n      <td>UMB</td>\n      <td>455938</td>\n      <td>489365</td>\n      <td>33427</td>\n    </tr>\n    <tr>\n      <th>19</th>\n      <td>VDA</td>\n      <td>64921</td>\n      <td>72640</td>\n      <td>7719</td>\n    </tr>\n    <tr>\n      <th>20</th>\n      <td>VEN</td>\n      <td>2516631</td>\n      <td>2655860</td>\n      <td>139229</td>\n    </tr>\n  </tbody>\n</table>\n</div>"
     },
     "metadata": {},
     "execution_count": 26
    }
   ],
   "source": [
    "dosi['da_utilizzare'] = dosi['dosi_consegnate'] - dosi['dosi_somministrate']\n",
    "dosi"
   ]
  },
  {
   "cell_type": "code",
   "execution_count": null,
   "metadata": {},
   "outputs": [],
   "source": []
  }
 ]
}